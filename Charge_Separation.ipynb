{
 "cells": [
  {
   "cell_type": "code",
   "execution_count": 2,
   "id": "95926f1f",
   "metadata": {},
   "outputs": [],
   "source": [
    "import pandas as pd\n",
    "import numpy as np\n",
    "import matplotlib.pyplot as plt\n",
    "%matplotlib inline"
   ]
  },
  {
   "cell_type": "markdown",
   "id": "f3fd33ce",
   "metadata": {},
   "source": [
    "### Setting up things to be hard coded."
   ]
  },
  {
   "cell_type": "code",
   "execution_count": 11,
   "id": "c109743b",
   "metadata": {},
   "outputs": [
    {
     "data": {
      "text/html": [
       "<div>\n",
       "<style scoped>\n",
       "    .dataframe tbody tr th:only-of-type {\n",
       "        vertical-align: middle;\n",
       "    }\n",
       "\n",
       "    .dataframe tbody tr th {\n",
       "        vertical-align: top;\n",
       "    }\n",
       "\n",
       "    .dataframe thead th {\n",
       "        text-align: right;\n",
       "    }\n",
       "</style>\n",
       "<table border=\"1\" class=\"dataframe\">\n",
       "  <thead>\n",
       "    <tr style=\"text-align: right;\">\n",
       "      <th></th>\n",
       "      <th>Radius (m)</th>\n",
       "      <th>Total charge (C)</th>\n",
       "    </tr>\n",
       "  </thead>\n",
       "  <tbody>\n",
       "    <tr>\n",
       "      <th>0</th>\n",
       "      <td>0.000100</td>\n",
       "      <td>2.987657e+03</td>\n",
       "    </tr>\n",
       "    <tr>\n",
       "      <th>1</th>\n",
       "      <td>0.000141</td>\n",
       "      <td>1.034684e+03</td>\n",
       "    </tr>\n",
       "    <tr>\n",
       "      <th>2</th>\n",
       "      <td>0.000173</td>\n",
       "      <td>6.771606e+02</td>\n",
       "    </tr>\n",
       "    <tr>\n",
       "      <th>3</th>\n",
       "      <td>0.000200</td>\n",
       "      <td>4.874315e+02</td>\n",
       "    </tr>\n",
       "    <tr>\n",
       "      <th>4</th>\n",
       "      <td>0.000224</td>\n",
       "      <td>3.667940e+02</td>\n",
       "    </tr>\n",
       "    <tr>\n",
       "      <th>...</th>\n",
       "      <td>...</td>\n",
       "      <td>...</td>\n",
       "    </tr>\n",
       "    <tr>\n",
       "      <th>300</th>\n",
       "      <td>0.001735</td>\n",
       "      <td>2.729252e-19</td>\n",
       "    </tr>\n",
       "    <tr>\n",
       "      <th>301</th>\n",
       "      <td>0.001738</td>\n",
       "      <td>2.328247e-19</td>\n",
       "    </tr>\n",
       "    <tr>\n",
       "      <th>302</th>\n",
       "      <td>0.001741</td>\n",
       "      <td>1.986172e-19</td>\n",
       "    </tr>\n",
       "    <tr>\n",
       "      <th>303</th>\n",
       "      <td>0.001744</td>\n",
       "      <td>1.694365e-19</td>\n",
       "    </tr>\n",
       "    <tr>\n",
       "      <th>304</th>\n",
       "      <td>0.001746</td>\n",
       "      <td>1.445439e-19</td>\n",
       "    </tr>\n",
       "  </tbody>\n",
       "</table>\n",
       "<p>305 rows × 2 columns</p>\n",
       "</div>"
      ],
      "text/plain": [
       "     Radius (m)  Total charge (C)\n",
       "0      0.000100      2.987657e+03\n",
       "1      0.000141      1.034684e+03\n",
       "2      0.000173      6.771606e+02\n",
       "3      0.000200      4.874315e+02\n",
       "4      0.000224      3.667940e+02\n",
       "..          ...               ...\n",
       "300    0.001735      2.729252e-19\n",
       "301    0.001738      2.328247e-19\n",
       "302    0.001741      1.986172e-19\n",
       "303    0.001744      1.694365e-19\n",
       "304    0.001746      1.445439e-19\n",
       "\n",
       "[305 rows x 2 columns]"
      ]
     },
     "execution_count": 11,
     "metadata": {},
     "output_type": "execute_result"
    }
   ],
   "source": [
    "### the rmax and charge\n",
    "Rqdata = pd.read_csv(\"Work\",usecols=[1,2])\n"
   ]
  },
  {
   "cell_type": "markdown",
   "id": "37ee301a",
   "metadata": {},
   "source": [
    "### Point spread regular"
   ]
  },
  {
   "cell_type": "code",
   "execution_count": 15,
   "id": "d4ccb151",
   "metadata": {},
   "outputs": [
    {
     "data": {
      "text/plain": [
       "<matplotlib.collections.PathCollection at 0x7f9cda831d00>"
      ]
     },
     "execution_count": 15,
     "metadata": {},
     "output_type": "execute_result"
    },
    {
     "data": {
      "image/png": "[encoded data removed]",
      "text/plain": [
       "<Figure size 432x288 with 1 Axes>"
      ]
     },
     "metadata": {
      "needs_background": "light"
     },
     "output_type": "display_data"
    }
   ],
   "source": [
    "electronpos= [1,1]\n",
    "points = 120\n",
    "rmax = 0.001746\n",
    "ppa = 10 #number of points per annulie\n",
    "valuesr = np.linspace(0.00001,rmax,int(points/ppa))\n",
    "pirange = np.linspace(0.00001,2*np.pi,int(ppa))\n",
    "x = np.array([])\n",
    "y = np.array([])\n",
    "\n",
    "for theta in pirange:\n",
    "    x=np.append(x,valuesr*np.cos(theta)+electronpos[0])\n",
    "    y=np.append(y,valuesr*np.sin(theta)+electronpos[1])\n",
    "plt.scatter(x,y,marker=\".\",lw=0.01)\n"
   ]
  },
  {
   "cell_type": "markdown",
   "id": "7132705c",
   "metadata": {},
   "source": [
    "### Point spread normal"
   ]
  },
  {
   "cell_type": "code",
   "execution_count": null,
   "id": "2b704055",
   "metadata": {},
   "outputs": [],
   "source": []
  }
 ],
 "metadata": {
  "kernelspec": {
   "display_name": "Python 3",
   "language": "python",
   "name": "python3"
  },
  "language_info": {
   "codemirror_mode": {
    "name": "ipython",
    "version": 3
   },
   "file_extension": ".py",
   "mimetype": "text/x-python",
   "name": "python",
   "nbconvert_exporter": "python",
   "pygments_lexer": "ipython3",
   "version": "3.8.8"
  }
 },
 "nbformat": 4,
 "nbformat_minor": 5
}
