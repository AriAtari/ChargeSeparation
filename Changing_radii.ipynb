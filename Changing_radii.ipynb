{
 "cells": [
  {
   "cell_type": "code",
   "execution_count": 1,
   "id": "56f5d8d2",
   "metadata": {},
   "outputs": [],
   "source": [
    "import matplotlib.pyplot as plt\n",
    "%matplotlib inline\n",
    "import numpy as np\n",
    "import scipy.integrate as inta\n",
    "import pandas as pd\n",
    "import random as ran\n",
    "import sys"
   ]
  },
  {
   "cell_type": "code",
   "execution_count": 2,
   "id": "c6f3c2be",
   "metadata": {},
   "outputs": [
    {
     "data": {
      "text/plain": [
       "(0.33333333333333337, 3.700743415417189e-15)"
      ]
     },
     "execution_count": 2,
     "metadata": {},
     "output_type": "execute_result"
    }
   ],
   "source": [
    "inta.quad(lambda x: x**2,0,1)"
   ]
  },
  {
   "cell_type": "markdown",
   "id": "601c6f43",
   "metadata": {},
   "source": [
    "## * Finding $R_{max}$"
   ]
  },
  {
   "cell_type": "code",
   "execution_count": 3,
   "id": "b45d528c",
   "metadata": {},
   "outputs": [
    {
     "name": "stdout",
     "output_type": "stream",
     "text": [
      "[0.     0.0001 0.0002 0.0003 0.0004 0.0005 0.0006 0.0007 0.0008 0.0009\n",
      " 0.001  0.0011 0.0012 0.0013 0.0014 0.0015 0.0016 0.0017 0.0018 0.0019] 18 [2.98765707e+03 2.19927579e+03 1.19163620e+03 4.75178142e+02\n",
      " 1.39419099e+02 3.00898462e+01 4.77537753e+00 5.57093547e-01\n",
      " 4.77544051e-02 3.00670125e-03 1.38990136e-04 4.71543972e-06\n",
      " 1.17364776e-07 2.14225382e-09 2.86662394e-11 2.81122772e-13\n",
      " 2.01983515e-15 1.06294259e-17]\n"
     ]
    },
    {
     "data": {
      "text/plain": [
       "Text(0.5, 1.0, 'Total charge between radii')"
      ]
     },
     "execution_count": 3,
     "metadata": {},
     "output_type": "execute_result"
    },
    {
     "data": {
      "image/png": "[encoded data removed]",
      "text/plain": [
       "<Figure size 432x288 with 1 Axes>"
      ]
     },
     "metadata": {
      "needs_background": "light"
     },
     "output_type": "display_data"
    }
   ],
   "source": [
    "Nq = 200 #gain is 200 MeV\n",
    "R = 10e+6 # Surface resistivity (ohm/square)\n",
    "d = 100e-6 # Anode-readout plane separation (m)\n",
    "eps_0 = 8.854e-12 # Permittivity of a vacuum (F/m)\n",
    "k_1 = 3.3 # Relative permittivity of dielectric material (glue)\n",
    "k_2 = 3.1 # Relative permittivity of dielectric material (mylar)\n",
    "C = ((2*eps_0)/d)*((k_1*k_2)/(k_1+k_2)) # Capacitance per unit area with two dielectrics\n",
    "h = 1/(R*C)\n",
    "q = np.array([])\n",
    "r = np.array([])\n",
    "r = np.append(r,0)\n",
    "#q = np.append(q,0)\n",
    "t = 45e-9 #45 nano seconds \n",
    "e = 1.60217662e-19 #charge of an electron in coulombs\n",
    "i = 0 #to keep track of index\n",
    "found = False \n",
    "while found == False:\n",
    "    r = np.append(r,r[i]+1e-4)\n",
    "    charge = inta.quad(lambda x: 1/(2*t*h)*np.exp(-x**2/(4*t*h)),r[i],r[i+1])\n",
    "    if charge[0] <= e:\n",
    "        print(r,i,q)\n",
    "        found = True\n",
    "        \n",
    "    q = np.append(q,charge[0])\n",
    "\n",
    "    i += 1\n",
    "r = np.delete(r,0)   \n",
    "plt.plot(r,q,marker= \"X\",markerfacecolor='red',markeredgecolor = 'green')\n",
    "plt.xlabel(\"radius (m)\")\n",
    "plt.ylabel(\"Total charge\")\n",
    "plt.title(\"Total charge between radii\")"
   ]
  },
  {
   "cell_type": "markdown",
   "id": "f1b00026",
   "metadata": {},
   "source": [
    "### Lets focus on the parts where Total charge is less than 1"
   ]
  },
  {
   "cell_type": "code",
   "execution_count": 4,
   "id": "c9752bb9",
   "metadata": {},
   "outputs": [
    {
     "data": {
      "text/plain": [
       "Text(0.5, 1.0, 'Total charge between radii')"
      ]
     },
     "execution_count": 4,
     "metadata": {},
     "output_type": "execute_result"
    },
    {
     "data": {
      "image/png": "[encoded data removed]",
      "text/plain": [
       "<Figure size 432x288 with 1 Axes>"
      ]
     },
     "metadata": {
      "needs_background": "light"
     },
     "output_type": "display_data"
    }
   ],
   "source": [
    "\n",
    "plt.plot(r[np.where(q<1)],q[np.where(q<1)],marker= \"X\",markerfacecolor='red',markeredgecolor = 'green')\n",
    "plt.xlabel(\"radius (m)\")\n",
    "plt.ylabel(\"Total charge\")\n",
    "plt.title(\"Total charge between radii\")"
   ]
  },
  {
   "cell_type": "markdown",
   "id": "248e82d2",
   "metadata": {},
   "source": [
    "### Lets make a Data frame to show the values."
   ]
  },
  {
   "cell_type": "code",
   "execution_count": 5,
   "id": "1be6ecb2",
   "metadata": {},
   "outputs": [
    {
     "data": {
      "text/html": [
       "<div>\n",
       "<style scoped>\n",
       "    .dataframe tbody tr th:only-of-type {\n",
       "        vertical-align: middle;\n",
       "    }\n",
       "\n",
       "    .dataframe tbody tr th {\n",
       "        vertical-align: top;\n",
       "    }\n",
       "\n",
       "    .dataframe thead th {\n",
       "        text-align: right;\n",
       "    }\n",
       "</style>\n",
       "<table border=\"1\" class=\"dataframe\">\n",
       "  <thead>\n",
       "    <tr style=\"text-align: right;\">\n",
       "      <th></th>\n",
       "      <th>Radius (m)</th>\n",
       "      <th>Total charge (C)</th>\n",
       "    </tr>\n",
       "  </thead>\n",
       "  <tbody>\n",
       "    <tr>\n",
       "      <th>0</th>\n",
       "      <td>0.0001</td>\n",
       "      <td>2.987657e+03</td>\n",
       "    </tr>\n",
       "    <tr>\n",
       "      <th>1</th>\n",
       "      <td>0.0002</td>\n",
       "      <td>2.199276e+03</td>\n",
       "    </tr>\n",
       "    <tr>\n",
       "      <th>2</th>\n",
       "      <td>0.0003</td>\n",
       "      <td>1.191636e+03</td>\n",
       "    </tr>\n",
       "    <tr>\n",
       "      <th>3</th>\n",
       "      <td>0.0004</td>\n",
       "      <td>4.751781e+02</td>\n",
       "    </tr>\n",
       "    <tr>\n",
       "      <th>4</th>\n",
       "      <td>0.0005</td>\n",
       "      <td>1.394191e+02</td>\n",
       "    </tr>\n",
       "    <tr>\n",
       "      <th>5</th>\n",
       "      <td>0.0006</td>\n",
       "      <td>3.008985e+01</td>\n",
       "    </tr>\n",
       "    <tr>\n",
       "      <th>6</th>\n",
       "      <td>0.0007</td>\n",
       "      <td>4.775378e+00</td>\n",
       "    </tr>\n",
       "    <tr>\n",
       "      <th>7</th>\n",
       "      <td>0.0008</td>\n",
       "      <td>5.570935e-01</td>\n",
       "    </tr>\n",
       "    <tr>\n",
       "      <th>8</th>\n",
       "      <td>0.0009</td>\n",
       "      <td>4.775441e-02</td>\n",
       "    </tr>\n",
       "    <tr>\n",
       "      <th>9</th>\n",
       "      <td>0.0010</td>\n",
       "      <td>3.006701e-03</td>\n",
       "    </tr>\n",
       "    <tr>\n",
       "      <th>10</th>\n",
       "      <td>0.0011</td>\n",
       "      <td>1.389901e-04</td>\n",
       "    </tr>\n",
       "    <tr>\n",
       "      <th>11</th>\n",
       "      <td>0.0012</td>\n",
       "      <td>4.715440e-06</td>\n",
       "    </tr>\n",
       "    <tr>\n",
       "      <th>12</th>\n",
       "      <td>0.0013</td>\n",
       "      <td>1.173648e-07</td>\n",
       "    </tr>\n",
       "    <tr>\n",
       "      <th>13</th>\n",
       "      <td>0.0014</td>\n",
       "      <td>2.142254e-09</td>\n",
       "    </tr>\n",
       "    <tr>\n",
       "      <th>14</th>\n",
       "      <td>0.0015</td>\n",
       "      <td>2.866624e-11</td>\n",
       "    </tr>\n",
       "    <tr>\n",
       "      <th>15</th>\n",
       "      <td>0.0016</td>\n",
       "      <td>2.811228e-13</td>\n",
       "    </tr>\n",
       "    <tr>\n",
       "      <th>16</th>\n",
       "      <td>0.0017</td>\n",
       "      <td>2.019835e-15</td>\n",
       "    </tr>\n",
       "    <tr>\n",
       "      <th>17</th>\n",
       "      <td>0.0018</td>\n",
       "      <td>1.062943e-17</td>\n",
       "    </tr>\n",
       "    <tr>\n",
       "      <th>18</th>\n",
       "      <td>0.0019</td>\n",
       "      <td>4.096068e-20</td>\n",
       "    </tr>\n",
       "  </tbody>\n",
       "</table>\n",
       "</div>"
      ],
      "text/plain": [
       "    Radius (m)  Total charge (C)\n",
       "0       0.0001      2.987657e+03\n",
       "1       0.0002      2.199276e+03\n",
       "2       0.0003      1.191636e+03\n",
       "3       0.0004      4.751781e+02\n",
       "4       0.0005      1.394191e+02\n",
       "5       0.0006      3.008985e+01\n",
       "6       0.0007      4.775378e+00\n",
       "7       0.0008      5.570935e-01\n",
       "8       0.0009      4.775441e-02\n",
       "9       0.0010      3.006701e-03\n",
       "10      0.0011      1.389901e-04\n",
       "11      0.0012      4.715440e-06\n",
       "12      0.0013      1.173648e-07\n",
       "13      0.0014      2.142254e-09\n",
       "14      0.0015      2.866624e-11\n",
       "15      0.0016      2.811228e-13\n",
       "16      0.0017      2.019835e-15\n",
       "17      0.0018      1.062943e-17\n",
       "18      0.0019      4.096068e-20"
      ]
     },
     "execution_count": 5,
     "metadata": {},
     "output_type": "execute_result"
    }
   ],
   "source": [
    "\n",
    "ChangeR = pd.DataFrame( columns=[\"Radius (m)\", \"Total charge (C)\"])\n",
    "ChangeR[\"Radius (m)\"] = pd.Series(r)\n",
    "ChangeR[\"Total charge (C)\"] = pd.Series(q)\n",
    "\n",
    "ChangeR\n"
   ]
  },
  {
   "cell_type": "markdown",
   "id": "71e44615",
   "metadata": {},
   "source": [
    "### Changing Area"
   ]
  },
  {
   "cell_type": "code",
   "execution_count": 6,
   "id": "90ef893e",
   "metadata": {},
   "outputs": [
    {
     "name": "stdout",
     "output_type": "stream",
     "text": [
      "[0.00000000e+00 5.20011524e-05 7.35407350e-05 ... 1.89786397e-03\n",
      " 1.89857625e-03 1.89928826e-03] 1093 [1.61255553e+03 6.36384914e+02 4.67752247e+02 ... 1.79994095e-19\n",
      " 1.72421708e-19 1.65167962e-19]\n"
     ]
    },
    {
     "data": {
      "text/plain": [
       "Text(0.5, 1.0, 'Total charge between radii')"
      ]
     },
     "execution_count": 6,
     "metadata": {},
     "output_type": "execute_result"
    },
    {
     "data": {
      "image/png": "[encoded data removed]",
      "text/plain": [
       "<Figure size 432x288 with 1 Axes>"
      ]
     },
     "metadata": {
      "needs_background": "light"
     },
     "output_type": "display_data"
    }
   ],
   "source": [
    "#our final radius should be 0.0019 as that is close to where the charge is essencially of that of an electron\n",
    "R = 0.0019 #m\n",
    "Segments = 1335 # number of segments with equal area pi*0.1^2  \n",
    "Ar=np.array([])\n",
    "for ith in np.arange(0,Segments,1):\n",
    "    newr = R*np.sqrt(ith/Segments)\n",
    "    Ar = np.append(Ar,newr)\n",
    "Aq = np.array([])\n",
    "\n",
    "j=0 #index\n",
    "foundA = False \n",
    "while foundA == False:\n",
    "    \n",
    "    chargeA = inta.quad(lambda x: 1/(2*t*h)*np.exp(-x**2/(4*t*h)),Ar[j],Ar[j+1])\n",
    "    if chargeA[0] <= e:\n",
    "        print(Ar,j,Aq)\n",
    "        foundA = True\n",
    "    Aq = np.append(Aq,chargeA[0])\n",
    "\n",
    "    j += 1\n",
    " \n",
    "\n",
    "    \n",
    "newAr =np.array([]) #Keeping radii that have total charge > e\n",
    "\n",
    "for b in np.arange(0,len(Aq)+1,1):\n",
    "    newAr = np.append(newAr,Ar[b])\n",
    "newAr = np.delete(newAr,0) \n",
    "plt.plot(newAr,Aq,marker= \"X\",markerfacecolor='red',markeredgecolor = 'green')\n",
    "plt.xlabel(\"radius (m)\")\n",
    "plt.ylabel(\"Total charge\")\n",
    "plt.title(\"Total charge between radii\")\n",
    "\n"
   ]
  },
  {
   "cell_type": "markdown",
   "id": "66d7e554",
   "metadata": {},
   "source": [
    "### Lets focus on Total charge less that 0.1"
   ]
  },
  {
   "cell_type": "code",
   "execution_count": 7,
   "id": "8b5ae250",
   "metadata": {},
   "outputs": [
    {
     "data": {
      "text/plain": [
       "Text(0.5, 1.0, 'Total charge between radii')"
      ]
     },
     "execution_count": 7,
     "metadata": {},
     "output_type": "execute_result"
    },
    {
     "data": {
      "image/png": "[encoded data removed]",
      "text/plain": [
       "<Figure size 432x288 with 1 Axes>"
      ]
     },
     "metadata": {
      "needs_background": "light"
     },
     "output_type": "display_data"
    }
   ],
   "source": [
    "plt.plot(newAr[np.where(Aq < 0.1)],Aq[np.where(Aq < 0.1)],marker= \"^\",markerfacecolor='red',markeredgecolor = 'green')\n",
    "plt.xlabel(\"radius (m)\")\n",
    "plt.ylabel(\"Total charge\")\n",
    "plt.title(\"Total charge between radii\")\n"
   ]
  },
  {
   "cell_type": "markdown",
   "id": "8e838b52",
   "metadata": {},
   "source": [
    "### Make a dataframe."
   ]
  },
  {
   "cell_type": "code",
   "execution_count": 8,
   "id": "b80c4167",
   "metadata": {},
   "outputs": [
    {
     "data": {
      "text/html": [
       "<div>\n",
       "<style scoped>\n",
       "    .dataframe tbody tr th:only-of-type {\n",
       "        vertical-align: middle;\n",
       "    }\n",
       "\n",
       "    .dataframe tbody tr th {\n",
       "        vertical-align: top;\n",
       "    }\n",
       "\n",
       "    .dataframe thead th {\n",
       "        text-align: right;\n",
       "    }\n",
       "</style>\n",
       "<table border=\"1\" class=\"dataframe\">\n",
       "  <thead>\n",
       "    <tr style=\"text-align: right;\">\n",
       "      <th></th>\n",
       "      <th>Radius (m)</th>\n",
       "      <th>Total charge (C)</th>\n",
       "    </tr>\n",
       "  </thead>\n",
       "  <tbody>\n",
       "    <tr>\n",
       "      <th>0</th>\n",
       "      <td>0.000052</td>\n",
       "      <td>1.612556e+03</td>\n",
       "    </tr>\n",
       "    <tr>\n",
       "      <th>1</th>\n",
       "      <td>0.000074</td>\n",
       "      <td>6.363849e+02</td>\n",
       "    </tr>\n",
       "    <tr>\n",
       "      <th>2</th>\n",
       "      <td>0.000090</td>\n",
       "      <td>4.677522e+02</td>\n",
       "    </tr>\n",
       "    <tr>\n",
       "      <th>3</th>\n",
       "      <td>0.000104</td>\n",
       "      <td>3.778386e+02</td>\n",
       "    </tr>\n",
       "    <tr>\n",
       "      <th>4</th>\n",
       "      <td>0.000116</td>\n",
       "      <td>3.189879e+02</td>\n",
       "    </tr>\n",
       "    <tr>\n",
       "      <th>...</th>\n",
       "      <td>...</td>\n",
       "      <td>...</td>\n",
       "    </tr>\n",
       "    <tr>\n",
       "      <th>1089</th>\n",
       "      <td>0.001717</td>\n",
       "      <td>1.878991e-19</td>\n",
       "    </tr>\n",
       "    <tr>\n",
       "      <th>1090</th>\n",
       "      <td>0.001718</td>\n",
       "      <td>1.799941e-19</td>\n",
       "    </tr>\n",
       "    <tr>\n",
       "      <th>1091</th>\n",
       "      <td>0.001718</td>\n",
       "      <td>1.724217e-19</td>\n",
       "    </tr>\n",
       "    <tr>\n",
       "      <th>1092</th>\n",
       "      <td>0.001719</td>\n",
       "      <td>1.651680e-19</td>\n",
       "    </tr>\n",
       "    <tr>\n",
       "      <th>1093</th>\n",
       "      <td>0.001720</td>\n",
       "      <td>1.582194e-19</td>\n",
       "    </tr>\n",
       "  </tbody>\n",
       "</table>\n",
       "<p>1094 rows × 2 columns</p>\n",
       "</div>"
      ],
      "text/plain": [
       "      Radius (m)  Total charge (C)\n",
       "0       0.000052      1.612556e+03\n",
       "1       0.000074      6.363849e+02\n",
       "2       0.000090      4.677522e+02\n",
       "3       0.000104      3.778386e+02\n",
       "4       0.000116      3.189879e+02\n",
       "...          ...               ...\n",
       "1089    0.001717      1.878991e-19\n",
       "1090    0.001718      1.799941e-19\n",
       "1091    0.001718      1.724217e-19\n",
       "1092    0.001719      1.651680e-19\n",
       "1093    0.001720      1.582194e-19\n",
       "\n",
       "[1094 rows x 2 columns]"
      ]
     },
     "execution_count": 8,
     "metadata": {},
     "output_type": "execute_result"
    }
   ],
   "source": [
    "ChangeA = pd.DataFrame( columns=[\"Radius (m)\", \"Total charge (C)\"])\n",
    "ChangeA[\"Radius (m)\"] = pd.Series(newAr)\n",
    "ChangeA[\"Total charge (C)\"] = pd.Series(Aq)\n",
    "ChangeA"
   ]
  },
  {
   "cell_type": "markdown",
   "id": "afac9ff5",
   "metadata": {},
   "source": [
    "### Showing graphs using diffrent sufrace resistivty for diagnosis."
   ]
  },
  {
   "cell_type": "code",
   "execution_count": 9,
   "id": "d5538af2",
   "metadata": {
    "scrolled": false
   },
   "outputs": [
    {
     "name": "stdout",
     "output_type": "stream",
     "text": [
      "[0.     0.0001 0.0002 0.0003 0.0004 0.0005 0.0006 0.0007 0.0008 0.0009\n",
      " 0.001  0.0011 0.0012 0.0013 0.0014 0.0015 0.0016 0.0017 0.0018 0.0019\n",
      " 0.002  0.0021 0.0022 0.0023 0.0024 0.0025 0.0026 0.0027 0.0028 0.0029\n",
      " 0.003  0.0031 0.0032 0.0033 0.0034 0.0035 0.0036 0.0037 0.0038 0.0039\n",
      " 0.004  0.0041 0.0042 0.0043 0.0044 0.0045 0.0046 0.0047 0.0048 0.0049\n",
      " 0.005  0.0051 0.0052 0.0053 0.0054 0.0055 0.0056 0.0057] 56 [3.12860687e+02 3.03199254e+02 2.84762235e+02 2.59187338e+02\n",
      " 2.28624244e+02 1.95437493e+02 1.61908841e+02 1.29990108e+02\n",
      " 1.01140962e+02 7.62642258e+01 5.57303314e+01 3.94674735e+01\n",
      " 2.70871885e+01 1.80162912e+01 1.16129798e+01 7.25435354e+00\n",
      " 4.39167787e+00 2.57655190e+00 1.46495375e+00 8.07208028e-01\n",
      " 4.31045885e-01 2.23068342e-01 1.11873882e-01 5.43745575e-02\n",
      " 2.56117317e-02 1.16911774e-02 5.17194114e-03 2.21730188e-03\n",
      " 9.21238150e-04 3.70932383e-04 1.44741555e-04 5.47352705e-05\n",
      " 2.00593452e-05 7.12428987e-06 2.45211959e-06 8.17931326e-07\n",
      " 2.64403410e-07 8.28308583e-08 2.51473400e-08 7.39889067e-09\n",
      " 2.10967573e-09 5.82960619e-10 1.56112263e-10 4.05143594e-11\n",
      " 1.01895490e-11 2.48356106e-12 5.86635686e-13 1.34287545e-13\n",
      " 2.97904091e-14 6.40457826e-15 1.33437470e-15 2.69425135e-16\n",
      " 5.27195041e-17 9.99717452e-18 1.83719743e-18 3.27195128e-19]\n",
      "[0.     0.0001 0.0002 0.0003 0.0004 0.0005 0.0006 0.0007 0.0008 0.0009\n",
      " 0.001  0.0011 0.0012 0.0013 0.0014 0.0015 0.0016 0.0017 0.0018 0.0019\n",
      " 0.002  0.0021 0.0022 0.0023 0.0024 0.0025 0.0026 0.0027] 26 [1.53224850e+03 1.31197595e+03 9.61871458e+02 6.03807327e+02\n",
      " 3.24536448e+02 1.49349542e+02 5.88449576e+01 1.98503135e+01\n",
      " 5.73276799e+00 1.41737519e+00 2.99993571e-01 5.43535229e-02\n",
      " 8.42971680e-03 1.11904570e-03 1.27148574e-04 1.23646753e-05\n",
      " 1.02905784e-06 7.32927034e-08 4.46707741e-09 2.32973162e-10\n",
      " 1.03964721e-11 3.96955651e-13 1.29673848e-14 3.62406622e-16\n",
      " 8.66467970e-18 1.77215383e-19]\n",
      "[0.     0.0001 0.0002 0.0003 0.0004 0.0005 0.0006 0.0007 0.0008 0.0009\n",
      " 0.001  0.0011 0.0012 0.0013 0.0014 0.0015 0.0016 0.0017 0.0018 0.0019] 18 [2.98765707e+03 2.19927579e+03 1.19163620e+03 4.75178142e+02\n",
      " 1.39419099e+02 3.00898462e+01 4.77537753e+00 5.57093547e-01\n",
      " 4.77544051e-02 3.00670125e-03 1.38990136e-04 4.71543972e-06\n",
      " 1.17364776e-07 2.14225382e-09 2.86662394e-11 2.81122772e-13\n",
      " 2.01983515e-15 1.06294259e-17]\n"
     ]
    },
    {
     "data": {
      "text/plain": [
       "<matplotlib.legend.Legend at 0x7f3c9f2ef580>"
      ]
     },
     "execution_count": 9,
     "metadata": {},
     "output_type": "execute_result"
    },
    {
     "data": {
      "image/png": "[encoded data removed]",
      "text/plain": [
       "<Figure size 1152x648 with 1 Axes>"
      ]
     },
     "metadata": {
      "needs_background": "light"
     },
     "output_type": "display_data"
    }
   ],
   "source": [
    "h1 = 1/(1e+6*C)#surface resistivty of 1 megaohms\n",
    "h2 = 1/(5e+6*C)#surface resistivty of 5 megaohms\n",
    "h3 = 1/(10e+6*C)#surface resistivty of 10 megaohms\n",
    "#R=1 mega ohms\n",
    "q1 = np.array([])\n",
    "r1 = np.array([])\n",
    "r1 = np.append(r1,0)\n",
    "#q = np.append(q,0)\n",
    "t = 45e-9 #45 nano seconds \n",
    "e = 1.60217662e-19 #charge of an electron in coulombs\n",
    "i1 = 0 #to keep track of index\n",
    "found1 = False \n",
    "while found1 == False:\n",
    "    r1 = np.append(r1,r1[i1]+1e-4)\n",
    "    charge1 = inta.quad(lambda x: 1/(2*t*h1)*np.exp(-x**2/(4*t*h1)),r1[i1],r1[i1+1])\n",
    "    if charge1[0] <= e:\n",
    "        print(r1,i1,q1)\n",
    "        found1 = True\n",
    "        \n",
    "    q1 = np.append(q1,charge1[0])\n",
    "\n",
    "    i1 += 1\n",
    "r1 = np.delete(r1,0)   \n",
    "#R = 5 MegaOhms\n",
    "q2 = np.array([])\n",
    "r2 = np.array([])\n",
    "r2 = np.append(r2,0)\n",
    "#q = np.append(q,0)\n",
    "i2 = 0 #to keep track of index\n",
    "found2 = False \n",
    "while found2 == False:\n",
    "    r2 = np.append(r2,r2[i2]+1e-4)\n",
    "    charge2 = inta.quad(lambda x: 1/(2*t*h2)*np.exp(-x**2/(4*t*h2)),r2[i2],r2[i2+1])\n",
    "    if charge2[0] <= e:\n",
    "        print(r2,i2,q2)\n",
    "        found2 = True\n",
    "        \n",
    "    q2 = np.append(q2,charge2[0])\n",
    "\n",
    "    i2 += 1\n",
    "r2 = np.delete(r2,0)\n",
    "\n",
    "#R = 10 MegaOhms\n",
    "q3 = np.array([])\n",
    "r3 = np.array([])\n",
    "r3 = np.append(r3,0)\n",
    "#q = np.append(q,0)\n",
    "i3 = 0 #to keep track of index\n",
    "found3 = False \n",
    "while found3 == False:\n",
    "    r3 = np.append(r3,r3[i3]+1e-4)\n",
    "    charge3 = inta.quad(lambda x: 1/(2*t*h3)*np.exp(-x**2/(4*t*h3)),r3[i3],r3[i3+1])\n",
    "    if charge3[0] <= e:\n",
    "        print(r3,i3,q3)\n",
    "        found3 = True\n",
    "        \n",
    "    q3 = np.append(q3,charge3[0])\n",
    "\n",
    "    i3 += 1\n",
    "r3 = np.delete(r3,0)\n",
    "\n",
    "plt.figure(figsize=(16,9))\n",
    "plt.plot(r1,q1,color=\"blue\",label=\"1 MO\")\n",
    "plt.plot(r2,q2,color=\"r\",label=\"5 MO\")\n",
    "plt.plot(r3,q3,color=\"g\",label=\"10 MO\")\n",
    "plt.xlabel(\"radius (m)\")\n",
    "plt.ylabel(\"Total charge\")\n",
    "plt.title(\"Total charge between radii\")\n",
    "plt.legend()\n",
    "\n"
   ]
  },
  {
   "cell_type": "markdown",
   "id": "1724974c",
   "metadata": {},
   "source": [
    "## Making circles"
   ]
  },
  {
   "cell_type": "code",
   "execution_count": 10,
   "id": "391985ff",
   "metadata": {},
   "outputs": [
    {
     "data": {
      "image/png": "[encoded data removed]",
      "text/plain": [
       "<Figure size 576x576 with 1 Axes>"
      ]
     },
     "metadata": {
      "needs_background": "light"
     },
     "output_type": "display_data"
    }
   ],
   "source": [
    "\n",
    "fig, ax = plt.subplots(figsize=(8,8))\n",
    "ax.set_aspect(\"equal\")\n",
    "\n",
    "\n",
    "for i in range(0,len(newAr)):\n",
    "    c = plt.Circle((0,0), newAr[i],fill = 0,lw = 0.5,color= \"blue\")\n",
    "    ax.add_artist(c)\n",
    "\n",
    "plt.xlim([-0.001,0.001])\n",
    "plt.ylim([-0.001,0.001])\n",
    "\n",
    "  \n",
    "plt.show()\n"
   ]
  },
  {
   "cell_type": "markdown",
   "id": "3134e240",
   "metadata": {},
   "source": [
    "## plotting points\n"
   ]
  },
  {
   "cell_type": "code",
   "execution_count": 11,
   "id": "8a7b00e5",
   "metadata": {
    "scrolled": true
   },
   "outputs": [
    {
     "data": {
      "text/plain": [
       "<matplotlib.collections.PathCollection at 0x7f3c9e7ee670>"
      ]
     },
     "execution_count": 11,
     "metadata": {},
     "output_type": "execute_result"
    },
    {
     "data": {
      "image/png": "[encoded data removed]",
      "text/plain": [
       "<Figure size 432x288 with 1 Axes>"
      ]
     },
     "metadata": {
      "needs_background": "light"
     },
     "output_type": "display_data"
    }
   ],
   "source": [
    "points = 120\n",
    "rmax = 0.001745\n",
    "ppa = 10 #number of points per annulie\n",
    "valuesr = np.linspace(0.00001,rmax,int(points/ppa))\n",
    "pirange = np.linspace(0.00001,2*np.pi,int(ppa))\n",
    "x = np.array([])\n",
    "y = np.array([])\n",
    "for r in valuesr:\n",
    "    for theta in pirange:\n",
    "        x=np.append(x,r*np.cos(theta))\n",
    "        y=np.append(y,r*np.sin(theta))\n",
    "plt.scatter(x,y,marker=\".\",lw=0.01)\n"
   ]
  },
  {
   "cell_type": "code",
   "execution_count": 12,
   "id": "caf20a4d",
   "metadata": {},
   "outputs": [],
   "source": [
    "rad= ChangeA.iloc[:,0]\n",
    "Totcharge = ChangeA.iloc[:,1]\n",
    "count = 0\n",
    "cpp = np.array([0,]) #charge per point in coulombs\n",
    "for i in range(1,len(rad)):\n",
    "    for cur in valuesr:\n",
    "        if cur > rad[i-1] and cur< rad[i]:\n",
    "            count += ppa\n",
    "    if count > 0:\n",
    "        cpp = np.append(cpp,Totcharge[i]/count)\n",
    "    else:\n",
    "        cpp = np.append(cpp,0)\n"
   ]
  },
  {
   "cell_type": "code",
   "execution_count": 13,
   "id": "5d895195",
   "metadata": {},
   "outputs": [
    {
     "data": {
      "text/html": [
       "<div>\n",
       "<style scoped>\n",
       "    .dataframe tbody tr th:only-of-type {\n",
       "        vertical-align: middle;\n",
       "    }\n",
       "\n",
       "    .dataframe tbody tr th {\n",
       "        vertical-align: top;\n",
       "    }\n",
       "\n",
       "    .dataframe thead th {\n",
       "        text-align: right;\n",
       "    }\n",
       "</style>\n",
       "<table border=\"1\" class=\"dataframe\">\n",
       "  <thead>\n",
       "    <tr style=\"text-align: right;\">\n",
       "      <th></th>\n",
       "      <th>Radius (m)</th>\n",
       "      <th>Total charge (C)</th>\n",
       "      <th>Charge per Point</th>\n",
       "    </tr>\n",
       "  </thead>\n",
       "  <tbody>\n",
       "    <tr>\n",
       "      <th>0</th>\n",
       "      <td>0.000052</td>\n",
       "      <td>1.612556e+03</td>\n",
       "      <td>0.000000e+00</td>\n",
       "    </tr>\n",
       "    <tr>\n",
       "      <th>1</th>\n",
       "      <td>0.000074</td>\n",
       "      <td>6.363849e+02</td>\n",
       "      <td>0.000000e+00</td>\n",
       "    </tr>\n",
       "    <tr>\n",
       "      <th>2</th>\n",
       "      <td>0.000090</td>\n",
       "      <td>4.677522e+02</td>\n",
       "      <td>0.000000e+00</td>\n",
       "    </tr>\n",
       "    <tr>\n",
       "      <th>3</th>\n",
       "      <td>0.000104</td>\n",
       "      <td>3.778386e+02</td>\n",
       "      <td>0.000000e+00</td>\n",
       "    </tr>\n",
       "    <tr>\n",
       "      <th>4</th>\n",
       "      <td>0.000116</td>\n",
       "      <td>3.189879e+02</td>\n",
       "      <td>0.000000e+00</td>\n",
       "    </tr>\n",
       "    <tr>\n",
       "      <th>...</th>\n",
       "      <td>...</td>\n",
       "      <td>...</td>\n",
       "      <td>...</td>\n",
       "    </tr>\n",
       "    <tr>\n",
       "      <th>1089</th>\n",
       "      <td>0.001717</td>\n",
       "      <td>1.878991e-19</td>\n",
       "      <td>1.878991e-21</td>\n",
       "    </tr>\n",
       "    <tr>\n",
       "      <th>1090</th>\n",
       "      <td>0.001718</td>\n",
       "      <td>1.799941e-19</td>\n",
       "      <td>1.799941e-21</td>\n",
       "    </tr>\n",
       "    <tr>\n",
       "      <th>1091</th>\n",
       "      <td>0.001718</td>\n",
       "      <td>1.724217e-19</td>\n",
       "      <td>1.724217e-21</td>\n",
       "    </tr>\n",
       "    <tr>\n",
       "      <th>1092</th>\n",
       "      <td>0.001719</td>\n",
       "      <td>1.651680e-19</td>\n",
       "      <td>1.651680e-21</td>\n",
       "    </tr>\n",
       "    <tr>\n",
       "      <th>1093</th>\n",
       "      <td>0.001720</td>\n",
       "      <td>1.582194e-19</td>\n",
       "      <td>1.582194e-21</td>\n",
       "    </tr>\n",
       "  </tbody>\n",
       "</table>\n",
       "<p>1094 rows × 3 columns</p>\n",
       "</div>"
      ],
      "text/plain": [
       "      Radius (m)  Total charge (C)  Charge per Point\n",
       "0       0.000052      1.612556e+03      0.000000e+00\n",
       "1       0.000074      6.363849e+02      0.000000e+00\n",
       "2       0.000090      4.677522e+02      0.000000e+00\n",
       "3       0.000104      3.778386e+02      0.000000e+00\n",
       "4       0.000116      3.189879e+02      0.000000e+00\n",
       "...          ...               ...               ...\n",
       "1089    0.001717      1.878991e-19      1.878991e-21\n",
       "1090    0.001718      1.799941e-19      1.799941e-21\n",
       "1091    0.001718      1.724217e-19      1.724217e-21\n",
       "1092    0.001719      1.651680e-19      1.651680e-21\n",
       "1093    0.001720      1.582194e-19      1.582194e-21\n",
       "\n",
       "[1094 rows x 3 columns]"
      ]
     },
     "execution_count": 13,
     "metadata": {},
     "output_type": "execute_result"
    }
   ],
   "source": [
    "ChangeA[\"Charge per Point\"] = pd.Series(cpp)\n",
    "ChangeA"
   ]
  },
  {
   "cell_type": "code",
   "execution_count": 14,
   "id": "b7c6f3a2",
   "metadata": {},
   "outputs": [
    {
     "data": {
      "text/html": [
       "<div>\n",
       "<style scoped>\n",
       "    .dataframe tbody tr th:only-of-type {\n",
       "        vertical-align: middle;\n",
       "    }\n",
       "\n",
       "    .dataframe tbody tr th {\n",
       "        vertical-align: top;\n",
       "    }\n",
       "\n",
       "    .dataframe thead th {\n",
       "        text-align: right;\n",
       "    }\n",
       "</style>\n",
       "<table border=\"1\" class=\"dataframe\">\n",
       "  <thead>\n",
       "    <tr style=\"text-align: right;\">\n",
       "      <th></th>\n",
       "      <th>Radius (m)</th>\n",
       "      <th>Total charge (C)</th>\n",
       "      <th>Charge per Point</th>\n",
       "    </tr>\n",
       "  </thead>\n",
       "  <tbody>\n",
       "    <tr>\n",
       "      <th>count</th>\n",
       "      <td>1094.000000</td>\n",
       "      <td>1.094000e+03</td>\n",
       "      <td>1.094000e+03</td>\n",
       "    </tr>\n",
       "    <tr>\n",
       "      <th>mean</th>\n",
       "      <td>0.001147</td>\n",
       "      <td>6.424716e+00</td>\n",
       "      <td>2.062125e-01</td>\n",
       "    </tr>\n",
       "    <tr>\n",
       "      <th>std</th>\n",
       "      <td>0.000405</td>\n",
       "      <td>5.947068e+01</td>\n",
       "      <td>1.285516e+00</td>\n",
       "    </tr>\n",
       "    <tr>\n",
       "      <th>min</th>\n",
       "      <td>0.000052</td>\n",
       "      <td>1.582194e-19</td>\n",
       "      <td>0.000000e+00</td>\n",
       "    </tr>\n",
       "    <tr>\n",
       "      <th>25%</th>\n",
       "      <td>0.000861</td>\n",
       "      <td>2.032155e-14</td>\n",
       "      <td>1.466932e-16</td>\n",
       "    </tr>\n",
       "    <tr>\n",
       "      <th>50%</th>\n",
       "      <td>0.001217</td>\n",
       "      <td>2.767878e-09</td>\n",
       "      <td>2.561191e-11</td>\n",
       "    </tr>\n",
       "    <tr>\n",
       "      <th>75%</th>\n",
       "      <td>0.001490</td>\n",
       "      <td>4.351373e-04</td>\n",
       "      <td>5.587176e-06</td>\n",
       "    </tr>\n",
       "    <tr>\n",
       "      <th>max</th>\n",
       "      <td>0.001720</td>\n",
       "      <td>1.612556e+03</td>\n",
       "      <td>1.615600e+01</td>\n",
       "    </tr>\n",
       "  </tbody>\n",
       "</table>\n",
       "</div>"
      ],
      "text/plain": [
       "        Radius (m)  Total charge (C)  Charge per Point\n",
       "count  1094.000000      1.094000e+03      1.094000e+03\n",
       "mean      0.001147      6.424716e+00      2.062125e-01\n",
       "std       0.000405      5.947068e+01      1.285516e+00\n",
       "min       0.000052      1.582194e-19      0.000000e+00\n",
       "25%       0.000861      2.032155e-14      1.466932e-16\n",
       "50%       0.001217      2.767878e-09      2.561191e-11\n",
       "75%       0.001490      4.351373e-04      5.587176e-06\n",
       "max       0.001720      1.612556e+03      1.615600e+01"
      ]
     },
     "execution_count": 14,
     "metadata": {},
     "output_type": "execute_result"
    }
   ],
   "source": [
    "ChangeA.describe()"
   ]
  },
  {
   "cell_type": "code",
   "execution_count": 15,
   "id": "2664d3d5",
   "metadata": {},
   "outputs": [
    {
     "data": {
      "text/plain": [
       "Text(0.5, 0, 'Radius')"
      ]
     },
     "execution_count": 15,
     "metadata": {},
     "output_type": "execute_result"
    },
    {
     "data": {
      "image/png": "[encoded data removed]",
      "text/plain": [
       "<Figure size 432x288 with 1 Axes>"
      ]
     },
     "metadata": {
      "needs_background": "light"
     },
     "output_type": "display_data"
    }
   ],
   "source": [
    "plt.plot(ChangeA.loc[:,\"Radius (m)\"],ChangeA.loc[:,\"Charge per Point\"],\".r\")\n",
    "plt.ylabel(\"Charge per point\")\n",
    "plt.xlabel(\"Radius\")\n"
   ]
  },
  {
   "cell_type": "code",
   "execution_count": 16,
   "id": "6bfb86e6",
   "metadata": {},
   "outputs": [
    {
     "data": {
      "text/plain": [
       "(0.0, 30.0)"
      ]
     },
     "execution_count": 16,
     "metadata": {},
     "output_type": "execute_result"
    },
    {
     "data": {
      "image/png": "[encoded data removed]",
      "text/plain": [
       "<Figure size 432x288 with 1 Axes>"
      ]
     },
     "metadata": {
      "needs_background": "light"
     },
     "output_type": "display_data"
    }
   ],
   "source": [
    "Charging = ChangeA.loc[:,\"Charge per Point\"]\n",
    "Charging[Charging != 0].plot.hist(bins=200)\n",
    "\n",
    "plt.ylim(0,30)"
   ]
  },
  {
   "cell_type": "markdown",
   "id": "f4d7504d",
   "metadata": {},
   "source": [
    "### playing around with randomness"
   ]
  },
  {
   "cell_type": "code",
   "execution_count": 17,
   "id": "4814cd22",
   "metadata": {},
   "outputs": [
    {
     "data": {
      "text/plain": [
       "<matplotlib.collections.PathCollection at 0x7f3c9c35eee0>"
      ]
     },
     "execution_count": 17,
     "metadata": {},
     "output_type": "execute_result"
    },
    {
     "data": {
      "image/png": "[encoded data removed]",
      "text/plain": [
       "<Figure size 432x288 with 1 Axes>"
      ]
     },
     "metadata": {
      "needs_background": "light"
     },
     "output_type": "display_data"
    }
   ],
   "source": [
    "points = 200\n",
    "rmax = 0.001745\n",
    "rrange = np.random.uniform(-rmax,rmax,points)\n",
    "xtest = rrange*np.cos(np.random.uniform(0,np.pi,points))\n",
    "ytest = rrange*np.sin(np.random.uniform(0,np.pi,points))\n",
    "\n",
    "plt.scatter(xtest,ytest,marker=\".\",lw=0.01)\n"
   ]
  },
  {
   "cell_type": "code",
   "execution_count": 18,
   "id": "6cb7dc81",
   "metadata": {},
   "outputs": [],
   "source": [
    "rad= np.array([0,])\n",
    "rad= np.append(rad,ChangeA.iloc[:,0])\n",
    "Totcharge = ChangeA.iloc[:,1]\n",
    "count = 0\n",
    "cpptest = np.array([]) #charge per point in coulombs\n",
    "for i in range(1,len(rad)):\n",
    "    for cur in rrange:\n",
    "        if cur > rad[i-1] and cur< rad[i]:\n",
    "            count += 1\n",
    "    if count > 0:\n",
    "        cpptest = np.append(cpptest,Totcharge[i-1]/count)\n",
    "    else:\n",
    "        cpptest = np.append(cpptest,0)\n"
   ]
  },
  {
   "cell_type": "code",
   "execution_count": 19,
   "id": "5d8007c8",
   "metadata": {},
   "outputs": [
    {
     "data": {
      "text/html": [
       "<div>\n",
       "<style scoped>\n",
       "    .dataframe tbody tr th:only-of-type {\n",
       "        vertical-align: middle;\n",
       "    }\n",
       "\n",
       "    .dataframe tbody tr th {\n",
       "        vertical-align: top;\n",
       "    }\n",
       "\n",
       "    .dataframe thead th {\n",
       "        text-align: right;\n",
       "    }\n",
       "</style>\n",
       "<table border=\"1\" class=\"dataframe\">\n",
       "  <thead>\n",
       "    <tr style=\"text-align: right;\">\n",
       "      <th></th>\n",
       "      <th>Radius (m)</th>\n",
       "      <th>Total charge (C)</th>\n",
       "      <th>Charge per Point</th>\n",
       "    </tr>\n",
       "  </thead>\n",
       "  <tbody>\n",
       "    <tr>\n",
       "      <th>0</th>\n",
       "      <td>0.000052</td>\n",
       "      <td>1.612556e+03</td>\n",
       "      <td>8.062778e+02</td>\n",
       "    </tr>\n",
       "    <tr>\n",
       "      <th>1</th>\n",
       "      <td>0.000074</td>\n",
       "      <td>6.363849e+02</td>\n",
       "      <td>2.121283e+02</td>\n",
       "    </tr>\n",
       "    <tr>\n",
       "      <th>2</th>\n",
       "      <td>0.000090</td>\n",
       "      <td>4.677522e+02</td>\n",
       "      <td>9.355045e+01</td>\n",
       "    </tr>\n",
       "    <tr>\n",
       "      <th>3</th>\n",
       "      <td>0.000104</td>\n",
       "      <td>3.778386e+02</td>\n",
       "      <td>7.556772e+01</td>\n",
       "    </tr>\n",
       "    <tr>\n",
       "      <th>4</th>\n",
       "      <td>0.000116</td>\n",
       "      <td>3.189879e+02</td>\n",
       "      <td>5.316465e+01</td>\n",
       "    </tr>\n",
       "    <tr>\n",
       "      <th>...</th>\n",
       "      <td>...</td>\n",
       "      <td>...</td>\n",
       "      <td>...</td>\n",
       "    </tr>\n",
       "    <tr>\n",
       "      <th>1089</th>\n",
       "      <td>0.001717</td>\n",
       "      <td>1.878991e-19</td>\n",
       "      <td>2.210578e-21</td>\n",
       "    </tr>\n",
       "    <tr>\n",
       "      <th>1090</th>\n",
       "      <td>0.001718</td>\n",
       "      <td>1.799941e-19</td>\n",
       "      <td>2.117578e-21</td>\n",
       "    </tr>\n",
       "    <tr>\n",
       "      <th>1091</th>\n",
       "      <td>0.001718</td>\n",
       "      <td>1.724217e-19</td>\n",
       "      <td>2.028491e-21</td>\n",
       "    </tr>\n",
       "    <tr>\n",
       "      <th>1092</th>\n",
       "      <td>0.001719</td>\n",
       "      <td>1.651680e-19</td>\n",
       "      <td>1.943152e-21</td>\n",
       "    </tr>\n",
       "    <tr>\n",
       "      <th>1093</th>\n",
       "      <td>0.001720</td>\n",
       "      <td>1.582194e-19</td>\n",
       "      <td>1.861405e-21</td>\n",
       "    </tr>\n",
       "  </tbody>\n",
       "</table>\n",
       "<p>1094 rows × 3 columns</p>\n",
       "</div>"
      ],
      "text/plain": [
       "      Radius (m)  Total charge (C)  Charge per Point\n",
       "0       0.000052      1.612556e+03      8.062778e+02\n",
       "1       0.000074      6.363849e+02      2.121283e+02\n",
       "2       0.000090      4.677522e+02      9.355045e+01\n",
       "3       0.000104      3.778386e+02      7.556772e+01\n",
       "4       0.000116      3.189879e+02      5.316465e+01\n",
       "...          ...               ...               ...\n",
       "1089    0.001717      1.878991e-19      2.210578e-21\n",
       "1090    0.001718      1.799941e-19      2.117578e-21\n",
       "1091    0.001718      1.724217e-19      2.028491e-21\n",
       "1092    0.001719      1.651680e-19      1.943152e-21\n",
       "1093    0.001720      1.582194e-19      1.861405e-21\n",
       "\n",
       "[1094 rows x 3 columns]"
      ]
     },
     "execution_count": 19,
     "metadata": {},
     "output_type": "execute_result"
    }
   ],
   "source": [
    "changeAtest =ChangeA\n",
    "changeAtest[\"Charge per Point\"] = cpptest\n",
    "changeAtest\n"
   ]
  },
  {
   "cell_type": "code",
   "execution_count": 20,
   "id": "abc0451e",
   "metadata": {},
   "outputs": [
    {
     "data": {
      "text/plain": [
       "Text(0.5, 0, 'Radius')"
      ]
     },
     "execution_count": 20,
     "metadata": {},
     "output_type": "execute_result"
    },
    {
     "data": {
      "image/png": "[encoded data removed]",
      "text/plain": [
       "<Figure size 432x288 with 1 Axes>"
      ]
     },
     "metadata": {
      "needs_background": "light"
     },
     "output_type": "display_data"
    }
   ],
   "source": [
    "plt.plot(changeAtest.loc[:,\"Radius (m)\"],changeAtest.loc[:,\"Charge per Point\"],\".r\")\n",
    "plt.ylabel(\"Charge per point\")\n",
    "plt.xlabel(\"Radius\")\n"
   ]
  },
  {
   "cell_type": "code",
   "execution_count": 21,
   "id": "2295d5d6",
   "metadata": {},
   "outputs": [
    {
     "data": {
      "text/plain": [
       "(0.0, 30.0)"
      ]
     },
     "execution_count": 21,
     "metadata": {},
     "output_type": "execute_result"
    },
    {
     "data": {
      "image/png": "[encoded data removed]",
      "text/plain": [
       "<Figure size 432x288 with 1 Axes>"
      ]
     },
     "metadata": {
      "needs_background": "light"
     },
     "output_type": "display_data"
    }
   ],
   "source": [
    "Charging = changeAtest.loc[:,\"Charge per Point\"]\n",
    "Charging[Charging != 0].plot.hist(bins=200)\n",
    "plt.ylim(0,30)"
   ]
  },
  {
   "cell_type": "markdown",
   "id": "df035e1a",
   "metadata": {},
   "source": [
    "### setting up pad"
   ]
  },
  {
   "cell_type": "code",
   "execution_count": 22,
   "id": "262bb8a3",
   "metadata": {},
   "outputs": [],
   "source": [
    "pads = np.zeros((32,32))\n",
    "np.set_printoptions(threshold=sys.maxsize)\n",
    "pads\n",
    "\n",
    "padxpos= np.linspace(0,31*2.2e-3,32)\n",
    "padypos= np.linspace(0,31*2.2e-3,32)\n"
   ]
  },
  {
   "cell_type": "code",
   "execution_count": 23,
   "id": "29e44273",
   "metadata": {},
   "outputs": [
    {
     "data": {
      "text/plain": [
       "{0: [0.0, 0.0],\n",
       " 1: [0.0, 0.0022],\n",
       " 2: [0.0, 0.0044],\n",
       " 3: [0.0, 0.0066],\n",
       " 4: [0.0, 0.0088],\n",
       " 5: [0.0, 0.011],\n",
       " 6: [0.0, 0.0132],\n",
       " 7: [0.0, 0.0154],\n",
       " 8: [0.0, 0.0176],\n",
       " 9: [0.0, 0.0198],\n",
       " 10: [0.0, 0.022],\n",
       " 11: [0.0, 0.0242],\n",
       " 12: [0.0, 0.0264],\n",
       " 13: [0.0, 0.0286],\n",
       " 14: [0.0, 0.0308],\n",
       " 15: [0.0, 0.033],\n",
       " 16: [0.0, 0.0352],\n",
       " 17: [0.0, 0.0374],\n",
       " 18: [0.0, 0.0396],\n",
       " 19: [0.0, 0.0418],\n",
       " 20: [0.0, 0.044],\n",
       " 21: [0.0, 0.0462],\n",
       " 22: [0.0, 0.0484],\n",
       " 23: [0.0, 0.0506],\n",
       " 24: [0.0, 0.0528],\n",
       " 25: [0.0, 0.055],\n",
       " 26: [0.0, 0.0572],\n",
       " 27: [0.0, 0.0594],\n",
       " 28: [0.0, 0.0616],\n",
       " 29: [0.0, 0.0638],\n",
       " 30: [0.0, 0.066],\n",
       " 31: [0.0, 0.0682],\n",
       " 32: [0.0022, 0.0],\n",
       " 33: [0.0022, 0.0022],\n",
       " 34: [0.0022, 0.0044],\n",
       " 35: [0.0022, 0.0066],\n",
       " 36: [0.0022, 0.0088],\n",
       " 37: [0.0022, 0.011],\n",
       " 38: [0.0022, 0.0132],\n",
       " 39: [0.0022, 0.0154],\n",
       " 40: [0.0022, 0.0176],\n",
       " 41: [0.0022, 0.0198],\n",
       " 42: [0.0022, 0.022],\n",
       " 43: [0.0022, 0.0242],\n",
       " 44: [0.0022, 0.0264],\n",
       " 45: [0.0022, 0.0286],\n",
       " 46: [0.0022, 0.0308],\n",
       " 47: [0.0022, 0.033],\n",
       " 48: [0.0022, 0.0352],\n",
       " 49: [0.0022, 0.0374],\n",
       " 50: [0.0022, 0.0396],\n",
       " 51: [0.0022, 0.0418],\n",
       " 52: [0.0022, 0.044],\n",
       " 53: [0.0022, 0.0462],\n",
       " 54: [0.0022, 0.0484],\n",
       " 55: [0.0022, 0.0506],\n",
       " 56: [0.0022, 0.0528],\n",
       " 57: [0.0022, 0.055],\n",
       " 58: [0.0022, 0.0572],\n",
       " 59: [0.0022, 0.0594],\n",
       " 60: [0.0022, 0.0616],\n",
       " 61: [0.0022, 0.0638],\n",
       " 62: [0.0022, 0.066],\n",
       " 63: [0.0022, 0.0682],\n",
       " 64: [0.0044, 0.0],\n",
       " 65: [0.0044, 0.0022],\n",
       " 66: [0.0044, 0.0044],\n",
       " 67: [0.0044, 0.0066],\n",
       " 68: [0.0044, 0.0088],\n",
       " 69: [0.0044, 0.011],\n",
       " 70: [0.0044, 0.0132],\n",
       " 71: [0.0044, 0.0154],\n",
       " 72: [0.0044, 0.0176],\n",
       " 73: [0.0044, 0.0198],\n",
       " 74: [0.0044, 0.022],\n",
       " 75: [0.0044, 0.0242],\n",
       " 76: [0.0044, 0.0264],\n",
       " 77: [0.0044, 0.0286],\n",
       " 78: [0.0044, 0.0308],\n",
       " 79: [0.0044, 0.033],\n",
       " 80: [0.0044, 0.0352],\n",
       " 81: [0.0044, 0.0374],\n",
       " 82: [0.0044, 0.0396],\n",
       " 83: [0.0044, 0.0418],\n",
       " 84: [0.0044, 0.044],\n",
       " 85: [0.0044, 0.0462],\n",
       " 86: [0.0044, 0.0484],\n",
       " 87: [0.0044, 0.0506],\n",
       " 88: [0.0044, 0.0528],\n",
       " 89: [0.0044, 0.055],\n",
       " 90: [0.0044, 0.0572],\n",
       " 91: [0.0044, 0.0594],\n",
       " 92: [0.0044, 0.0616],\n",
       " 93: [0.0044, 0.0638],\n",
       " 94: [0.0044, 0.066],\n",
       " 95: [0.0044, 0.0682],\n",
       " 96: [0.0066, 0.0],\n",
       " 97: [0.0066, 0.0022],\n",
       " 98: [0.0066, 0.0044],\n",
       " 99: [0.0066, 0.0066],\n",
       " 100: [0.0066, 0.0088],\n",
       " 101: [0.0066, 0.011],\n",
       " 102: [0.0066, 0.0132],\n",
       " 103: [0.0066, 0.0154],\n",
       " 104: [0.0066, 0.0176],\n",
       " 105: [0.0066, 0.0198],\n",
       " 106: [0.0066, 0.022],\n",
       " 107: [0.0066, 0.0242],\n",
       " 108: [0.0066, 0.0264],\n",
       " 109: [0.0066, 0.0286],\n",
       " 110: [0.0066, 0.0308],\n",
       " 111: [0.0066, 0.033],\n",
       " 112: [0.0066, 0.0352],\n",
       " 113: [0.0066, 0.0374],\n",
       " 114: [0.0066, 0.0396],\n",
       " 115: [0.0066, 0.0418],\n",
       " 116: [0.0066, 0.044],\n",
       " 117: [0.0066, 0.0462],\n",
       " 118: [0.0066, 0.0484],\n",
       " 119: [0.0066, 0.0506],\n",
       " 120: [0.0066, 0.0528],\n",
       " 121: [0.0066, 0.055],\n",
       " 122: [0.0066, 0.0572],\n",
       " 123: [0.0066, 0.0594],\n",
       " 124: [0.0066, 0.0616],\n",
       " 125: [0.0066, 0.0638],\n",
       " 126: [0.0066, 0.066],\n",
       " 127: [0.0066, 0.0682],\n",
       " 128: [0.0088, 0.0],\n",
       " 129: [0.0088, 0.0022],\n",
       " 130: [0.0088, 0.0044],\n",
       " 131: [0.0088, 0.0066],\n",
       " 132: [0.0088, 0.0088],\n",
       " 133: [0.0088, 0.011],\n",
       " 134: [0.0088, 0.0132],\n",
       " 135: [0.0088, 0.0154],\n",
       " 136: [0.0088, 0.0176],\n",
       " 137: [0.0088, 0.0198],\n",
       " 138: [0.0088, 0.022],\n",
       " 139: [0.0088, 0.0242],\n",
       " 140: [0.0088, 0.0264],\n",
       " 141: [0.0088, 0.0286],\n",
       " 142: [0.0088, 0.0308],\n",
       " 143: [0.0088, 0.033],\n",
       " 144: [0.0088, 0.0352],\n",
       " 145: [0.0088, 0.0374],\n",
       " 146: [0.0088, 0.0396],\n",
       " 147: [0.0088, 0.0418],\n",
       " 148: [0.0088, 0.044],\n",
       " 149: [0.0088, 0.0462],\n",
       " 150: [0.0088, 0.0484],\n",
       " 151: [0.0088, 0.0506],\n",
       " 152: [0.0088, 0.0528],\n",
       " 153: [0.0088, 0.055],\n",
       " 154: [0.0088, 0.0572],\n",
       " 155: [0.0088, 0.0594],\n",
       " 156: [0.0088, 0.0616],\n",
       " 157: [0.0088, 0.0638],\n",
       " 158: [0.0088, 0.066],\n",
       " 159: [0.0088, 0.0682],\n",
       " 160: [0.011, 0.0],\n",
       " 161: [0.011, 0.0022],\n",
       " 162: [0.011, 0.0044],\n",
       " 163: [0.011, 0.0066],\n",
       " 164: [0.011, 0.0088],\n",
       " 165: [0.011, 0.011],\n",
       " 166: [0.011, 0.0132],\n",
       " 167: [0.011, 0.0154],\n",
       " 168: [0.011, 0.0176],\n",
       " 169: [0.011, 0.0198],\n",
       " 170: [0.011, 0.022],\n",
       " 171: [0.011, 0.0242],\n",
       " 172: [0.011, 0.0264],\n",
       " 173: [0.011, 0.0286],\n",
       " 174: [0.011, 0.0308],\n",
       " 175: [0.011, 0.033],\n",
       " 176: [0.011, 0.0352],\n",
       " 177: [0.011, 0.0374],\n",
       " 178: [0.011, 0.0396],\n",
       " 179: [0.011, 0.0418],\n",
       " 180: [0.011, 0.044],\n",
       " 181: [0.011, 0.0462],\n",
       " 182: [0.011, 0.0484],\n",
       " 183: [0.011, 0.0506],\n",
       " 184: [0.011, 0.0528],\n",
       " 185: [0.011, 0.055],\n",
       " 186: [0.011, 0.0572],\n",
       " 187: [0.011, 0.0594],\n",
       " 188: [0.011, 0.0616],\n",
       " 189: [0.011, 0.0638],\n",
       " 190: [0.011, 0.066],\n",
       " 191: [0.011, 0.0682],\n",
       " 192: [0.0132, 0.0],\n",
       " 193: [0.0132, 0.0022],\n",
       " 194: [0.0132, 0.0044],\n",
       " 195: [0.0132, 0.0066],\n",
       " 196: [0.0132, 0.0088],\n",
       " 197: [0.0132, 0.011],\n",
       " 198: [0.0132, 0.0132],\n",
       " 199: [0.0132, 0.0154],\n",
       " 200: [0.0132, 0.0176],\n",
       " 201: [0.0132, 0.0198],\n",
       " 202: [0.0132, 0.022],\n",
       " 203: [0.0132, 0.0242],\n",
       " 204: [0.0132, 0.0264],\n",
       " 205: [0.0132, 0.0286],\n",
       " 206: [0.0132, 0.0308],\n",
       " 207: [0.0132, 0.033],\n",
       " 208: [0.0132, 0.0352],\n",
       " 209: [0.0132, 0.0374],\n",
       " 210: [0.0132, 0.0396],\n",
       " 211: [0.0132, 0.0418],\n",
       " 212: [0.0132, 0.044],\n",
       " 213: [0.0132, 0.0462],\n",
       " 214: [0.0132, 0.0484],\n",
       " 215: [0.0132, 0.0506],\n",
       " 216: [0.0132, 0.0528],\n",
       " 217: [0.0132, 0.055],\n",
       " 218: [0.0132, 0.0572],\n",
       " 219: [0.0132, 0.0594],\n",
       " 220: [0.0132, 0.0616],\n",
       " 221: [0.0132, 0.0638],\n",
       " 222: [0.0132, 0.066],\n",
       " 223: [0.0132, 0.0682],\n",
       " 224: [0.0154, 0.0],\n",
       " 225: [0.0154, 0.0022],\n",
       " 226: [0.0154, 0.0044],\n",
       " 227: [0.0154, 0.0066],\n",
       " 228: [0.0154, 0.0088],\n",
       " 229: [0.0154, 0.011],\n",
       " 230: [0.0154, 0.0132],\n",
       " 231: [0.0154, 0.0154],\n",
       " 232: [0.0154, 0.0176],\n",
       " 233: [0.0154, 0.0198],\n",
       " 234: [0.0154, 0.022],\n",
       " 235: [0.0154, 0.0242],\n",
       " 236: [0.0154, 0.0264],\n",
       " 237: [0.0154, 0.0286],\n",
       " 238: [0.0154, 0.0308],\n",
       " 239: [0.0154, 0.033],\n",
       " 240: [0.0154, 0.0352],\n",
       " 241: [0.0154, 0.0374],\n",
       " 242: [0.0154, 0.0396],\n",
       " 243: [0.0154, 0.0418],\n",
       " 244: [0.0154, 0.044],\n",
       " 245: [0.0154, 0.0462],\n",
       " 246: [0.0154, 0.0484],\n",
       " 247: [0.0154, 0.0506],\n",
       " 248: [0.0154, 0.0528],\n",
       " 249: [0.0154, 0.055],\n",
       " 250: [0.0154, 0.0572],\n",
       " 251: [0.0154, 0.0594],\n",
       " 252: [0.0154, 0.0616],\n",
       " 253: [0.0154, 0.0638],\n",
       " 254: [0.0154, 0.066],\n",
       " 255: [0.0154, 0.0682],\n",
       " 256: [0.0176, 0.0],\n",
       " 257: [0.0176, 0.0022],\n",
       " 258: [0.0176, 0.0044],\n",
       " 259: [0.0176, 0.0066],\n",
       " 260: [0.0176, 0.0088],\n",
       " 261: [0.0176, 0.011],\n",
       " 262: [0.0176, 0.0132],\n",
       " 263: [0.0176, 0.0154],\n",
       " 264: [0.0176, 0.0176],\n",
       " 265: [0.0176, 0.0198],\n",
       " 266: [0.0176, 0.022],\n",
       " 267: [0.0176, 0.0242],\n",
       " 268: [0.0176, 0.0264],\n",
       " 269: [0.0176, 0.0286],\n",
       " 270: [0.0176, 0.0308],\n",
       " 271: [0.0176, 0.033],\n",
       " 272: [0.0176, 0.0352],\n",
       " 273: [0.0176, 0.0374],\n",
       " 274: [0.0176, 0.0396],\n",
       " 275: [0.0176, 0.0418],\n",
       " 276: [0.0176, 0.044],\n",
       " 277: [0.0176, 0.0462],\n",
       " 278: [0.0176, 0.0484],\n",
       " 279: [0.0176, 0.0506],\n",
       " 280: [0.0176, 0.0528],\n",
       " 281: [0.0176, 0.055],\n",
       " 282: [0.0176, 0.0572],\n",
       " 283: [0.0176, 0.0594],\n",
       " 284: [0.0176, 0.0616],\n",
       " 285: [0.0176, 0.0638],\n",
       " 286: [0.0176, 0.066],\n",
       " 287: [0.0176, 0.0682],\n",
       " 288: [0.0198, 0.0],\n",
       " 289: [0.0198, 0.0022],\n",
       " 290: [0.0198, 0.0044],\n",
       " 291: [0.0198, 0.0066],\n",
       " 292: [0.0198, 0.0088],\n",
       " 293: [0.0198, 0.011],\n",
       " 294: [0.0198, 0.0132],\n",
       " 295: [0.0198, 0.0154],\n",
       " 296: [0.0198, 0.0176],\n",
       " 297: [0.0198, 0.0198],\n",
       " 298: [0.0198, 0.022],\n",
       " 299: [0.0198, 0.0242],\n",
       " 300: [0.0198, 0.0264],\n",
       " 301: [0.0198, 0.0286],\n",
       " 302: [0.0198, 0.0308],\n",
       " 303: [0.0198, 0.033],\n",
       " 304: [0.0198, 0.0352],\n",
       " 305: [0.0198, 0.0374],\n",
       " 306: [0.0198, 0.0396],\n",
       " 307: [0.0198, 0.0418],\n",
       " 308: [0.0198, 0.044],\n",
       " 309: [0.0198, 0.0462],\n",
       " 310: [0.0198, 0.0484],\n",
       " 311: [0.0198, 0.0506],\n",
       " 312: [0.0198, 0.0528],\n",
       " 313: [0.0198, 0.055],\n",
       " 314: [0.0198, 0.0572],\n",
       " 315: [0.0198, 0.0594],\n",
       " 316: [0.0198, 0.0616],\n",
       " 317: [0.0198, 0.0638],\n",
       " 318: [0.0198, 0.066],\n",
       " 319: [0.0198, 0.0682],\n",
       " 320: [0.022, 0.0],\n",
       " 321: [0.022, 0.0022],\n",
       " 322: [0.022, 0.0044],\n",
       " 323: [0.022, 0.0066],\n",
       " 324: [0.022, 0.0088],\n",
       " 325: [0.022, 0.011],\n",
       " 326: [0.022, 0.0132],\n",
       " 327: [0.022, 0.0154],\n",
       " 328: [0.022, 0.0176],\n",
       " 329: [0.022, 0.0198],\n",
       " 330: [0.022, 0.022],\n",
       " 331: [0.022, 0.0242],\n",
       " 332: [0.022, 0.0264],\n",
       " 333: [0.022, 0.0286],\n",
       " 334: [0.022, 0.0308],\n",
       " 335: [0.022, 0.033],\n",
       " 336: [0.022, 0.0352],\n",
       " 337: [0.022, 0.0374],\n",
       " 338: [0.022, 0.0396],\n",
       " 339: [0.022, 0.0418],\n",
       " 340: [0.022, 0.044],\n",
       " 341: [0.022, 0.0462],\n",
       " 342: [0.022, 0.0484],\n",
       " 343: [0.022, 0.0506],\n",
       " 344: [0.022, 0.0528],\n",
       " 345: [0.022, 0.055],\n",
       " 346: [0.022, 0.0572],\n",
       " 347: [0.022, 0.0594],\n",
       " 348: [0.022, 0.0616],\n",
       " 349: [0.022, 0.0638],\n",
       " 350: [0.022, 0.066],\n",
       " 351: [0.022, 0.0682],\n",
       " 352: [0.0242, 0.0],\n",
       " 353: [0.0242, 0.0022],\n",
       " 354: [0.0242, 0.0044],\n",
       " 355: [0.0242, 0.0066],\n",
       " 356: [0.0242, 0.0088],\n",
       " 357: [0.0242, 0.011],\n",
       " 358: [0.0242, 0.0132],\n",
       " 359: [0.0242, 0.0154],\n",
       " 360: [0.0242, 0.0176],\n",
       " 361: [0.0242, 0.0198],\n",
       " 362: [0.0242, 0.022],\n",
       " 363: [0.0242, 0.0242],\n",
       " 364: [0.0242, 0.0264],\n",
       " 365: [0.0242, 0.0286],\n",
       " 366: [0.0242, 0.0308],\n",
       " 367: [0.0242, 0.033],\n",
       " 368: [0.0242, 0.0352],\n",
       " 369: [0.0242, 0.0374],\n",
       " 370: [0.0242, 0.0396],\n",
       " 371: [0.0242, 0.0418],\n",
       " 372: [0.0242, 0.044],\n",
       " 373: [0.0242, 0.0462],\n",
       " 374: [0.0242, 0.0484],\n",
       " 375: [0.0242, 0.0506],\n",
       " 376: [0.0242, 0.0528],\n",
       " 377: [0.0242, 0.055],\n",
       " 378: [0.0242, 0.0572],\n",
       " 379: [0.0242, 0.0594],\n",
       " 380: [0.0242, 0.0616],\n",
       " 381: [0.0242, 0.0638],\n",
       " 382: [0.0242, 0.066],\n",
       " 383: [0.0242, 0.0682],\n",
       " 384: [0.0264, 0.0],\n",
       " 385: [0.0264, 0.0022],\n",
       " 386: [0.0264, 0.0044],\n",
       " 387: [0.0264, 0.0066],\n",
       " 388: [0.0264, 0.0088],\n",
       " 389: [0.0264, 0.011],\n",
       " 390: [0.0264, 0.0132],\n",
       " 391: [0.0264, 0.0154],\n",
       " 392: [0.0264, 0.0176],\n",
       " 393: [0.0264, 0.0198],\n",
       " 394: [0.0264, 0.022],\n",
       " 395: [0.0264, 0.0242],\n",
       " 396: [0.0264, 0.0264],\n",
       " 397: [0.0264, 0.0286],\n",
       " 398: [0.0264, 0.0308],\n",
       " 399: [0.0264, 0.033],\n",
       " 400: [0.0264, 0.0352],\n",
       " 401: [0.0264, 0.0374],\n",
       " 402: [0.0264, 0.0396],\n",
       " 403: [0.0264, 0.0418],\n",
       " 404: [0.0264, 0.044],\n",
       " 405: [0.0264, 0.0462],\n",
       " 406: [0.0264, 0.0484],\n",
       " 407: [0.0264, 0.0506],\n",
       " 408: [0.0264, 0.0528],\n",
       " 409: [0.0264, 0.055],\n",
       " 410: [0.0264, 0.0572],\n",
       " 411: [0.0264, 0.0594],\n",
       " 412: [0.0264, 0.0616],\n",
       " 413: [0.0264, 0.0638],\n",
       " 414: [0.0264, 0.066],\n",
       " 415: [0.0264, 0.0682],\n",
       " 416: [0.0286, 0.0],\n",
       " 417: [0.0286, 0.0022],\n",
       " 418: [0.0286, 0.0044],\n",
       " 419: [0.0286, 0.0066],\n",
       " 420: [0.0286, 0.0088],\n",
       " 421: [0.0286, 0.011],\n",
       " 422: [0.0286, 0.0132],\n",
       " 423: [0.0286, 0.0154],\n",
       " 424: [0.0286, 0.0176],\n",
       " 425: [0.0286, 0.0198],\n",
       " 426: [0.0286, 0.022],\n",
       " 427: [0.0286, 0.0242],\n",
       " 428: [0.0286, 0.0264],\n",
       " 429: [0.0286, 0.0286],\n",
       " 430: [0.0286, 0.0308],\n",
       " 431: [0.0286, 0.033],\n",
       " 432: [0.0286, 0.0352],\n",
       " 433: [0.0286, 0.0374],\n",
       " 434: [0.0286, 0.0396],\n",
       " 435: [0.0286, 0.0418],\n",
       " 436: [0.0286, 0.044],\n",
       " 437: [0.0286, 0.0462],\n",
       " 438: [0.0286, 0.0484],\n",
       " 439: [0.0286, 0.0506],\n",
       " 440: [0.0286, 0.0528],\n",
       " 441: [0.0286, 0.055],\n",
       " 442: [0.0286, 0.0572],\n",
       " 443: [0.0286, 0.0594],\n",
       " 444: [0.0286, 0.0616],\n",
       " 445: [0.0286, 0.0638],\n",
       " 446: [0.0286, 0.066],\n",
       " 447: [0.0286, 0.0682],\n",
       " 448: [0.0308, 0.0],\n",
       " 449: [0.0308, 0.0022],\n",
       " 450: [0.0308, 0.0044],\n",
       " 451: [0.0308, 0.0066],\n",
       " 452: [0.0308, 0.0088],\n",
       " 453: [0.0308, 0.011],\n",
       " 454: [0.0308, 0.0132],\n",
       " 455: [0.0308, 0.0154],\n",
       " 456: [0.0308, 0.0176],\n",
       " 457: [0.0308, 0.0198],\n",
       " 458: [0.0308, 0.022],\n",
       " 459: [0.0308, 0.0242],\n",
       " 460: [0.0308, 0.0264],\n",
       " 461: [0.0308, 0.0286],\n",
       " 462: [0.0308, 0.0308],\n",
       " 463: [0.0308, 0.033],\n",
       " 464: [0.0308, 0.0352],\n",
       " 465: [0.0308, 0.0374],\n",
       " 466: [0.0308, 0.0396],\n",
       " 467: [0.0308, 0.0418],\n",
       " 468: [0.0308, 0.044],\n",
       " 469: [0.0308, 0.0462],\n",
       " 470: [0.0308, 0.0484],\n",
       " 471: [0.0308, 0.0506],\n",
       " 472: [0.0308, 0.0528],\n",
       " 473: [0.0308, 0.055],\n",
       " 474: [0.0308, 0.0572],\n",
       " 475: [0.0308, 0.0594],\n",
       " 476: [0.0308, 0.0616],\n",
       " 477: [0.0308, 0.0638],\n",
       " 478: [0.0308, 0.066],\n",
       " 479: [0.0308, 0.0682],\n",
       " 480: [0.033, 0.0],\n",
       " 481: [0.033, 0.0022],\n",
       " 482: [0.033, 0.0044],\n",
       " 483: [0.033, 0.0066],\n",
       " 484: [0.033, 0.0088],\n",
       " 485: [0.033, 0.011],\n",
       " 486: [0.033, 0.0132],\n",
       " 487: [0.033, 0.0154],\n",
       " 488: [0.033, 0.0176],\n",
       " 489: [0.033, 0.0198],\n",
       " 490: [0.033, 0.022],\n",
       " 491: [0.033, 0.0242],\n",
       " 492: [0.033, 0.0264],\n",
       " 493: [0.033, 0.0286],\n",
       " 494: [0.033, 0.0308],\n",
       " 495: [0.033, 0.033],\n",
       " 496: [0.033, 0.0352],\n",
       " 497: [0.033, 0.0374],\n",
       " 498: [0.033, 0.0396],\n",
       " 499: [0.033, 0.0418],\n",
       " 500: [0.033, 0.044],\n",
       " 501: [0.033, 0.0462],\n",
       " 502: [0.033, 0.0484],\n",
       " 503: [0.033, 0.0506],\n",
       " 504: [0.033, 0.0528],\n",
       " 505: [0.033, 0.055],\n",
       " 506: [0.033, 0.0572],\n",
       " 507: [0.033, 0.0594],\n",
       " 508: [0.033, 0.0616],\n",
       " 509: [0.033, 0.0638],\n",
       " 510: [0.033, 0.066],\n",
       " 511: [0.033, 0.0682],\n",
       " 512: [0.0352, 0.0],\n",
       " 513: [0.0352, 0.0022],\n",
       " 514: [0.0352, 0.0044],\n",
       " 515: [0.0352, 0.0066],\n",
       " 516: [0.0352, 0.0088],\n",
       " 517: [0.0352, 0.011],\n",
       " 518: [0.0352, 0.0132],\n",
       " 519: [0.0352, 0.0154],\n",
       " 520: [0.0352, 0.0176],\n",
       " 521: [0.0352, 0.0198],\n",
       " 522: [0.0352, 0.022],\n",
       " 523: [0.0352, 0.0242],\n",
       " 524: [0.0352, 0.0264],\n",
       " 525: [0.0352, 0.0286],\n",
       " 526: [0.0352, 0.0308],\n",
       " 527: [0.0352, 0.033],\n",
       " 528: [0.0352, 0.0352],\n",
       " 529: [0.0352, 0.0374],\n",
       " 530: [0.0352, 0.0396],\n",
       " 531: [0.0352, 0.0418],\n",
       " 532: [0.0352, 0.044],\n",
       " 533: [0.0352, 0.0462],\n",
       " 534: [0.0352, 0.0484],\n",
       " 535: [0.0352, 0.0506],\n",
       " 536: [0.0352, 0.0528],\n",
       " 537: [0.0352, 0.055],\n",
       " 538: [0.0352, 0.0572],\n",
       " 539: [0.0352, 0.0594],\n",
       " 540: [0.0352, 0.0616],\n",
       " 541: [0.0352, 0.0638],\n",
       " 542: [0.0352, 0.066],\n",
       " 543: [0.0352, 0.0682],\n",
       " 544: [0.0374, 0.0],\n",
       " 545: [0.0374, 0.0022],\n",
       " 546: [0.0374, 0.0044],\n",
       " 547: [0.0374, 0.0066],\n",
       " 548: [0.0374, 0.0088],\n",
       " 549: [0.0374, 0.011],\n",
       " 550: [0.0374, 0.0132],\n",
       " 551: [0.0374, 0.0154],\n",
       " 552: [0.0374, 0.0176],\n",
       " 553: [0.0374, 0.0198],\n",
       " 554: [0.0374, 0.022],\n",
       " 555: [0.0374, 0.0242],\n",
       " 556: [0.0374, 0.0264],\n",
       " 557: [0.0374, 0.0286],\n",
       " 558: [0.0374, 0.0308],\n",
       " 559: [0.0374, 0.033],\n",
       " 560: [0.0374, 0.0352],\n",
       " 561: [0.0374, 0.0374],\n",
       " 562: [0.0374, 0.0396],\n",
       " 563: [0.0374, 0.0418],\n",
       " 564: [0.0374, 0.044],\n",
       " 565: [0.0374, 0.0462],\n",
       " 566: [0.0374, 0.0484],\n",
       " 567: [0.0374, 0.0506],\n",
       " 568: [0.0374, 0.0528],\n",
       " 569: [0.0374, 0.055],\n",
       " 570: [0.0374, 0.0572],\n",
       " 571: [0.0374, 0.0594],\n",
       " 572: [0.0374, 0.0616],\n",
       " 573: [0.0374, 0.0638],\n",
       " 574: [0.0374, 0.066],\n",
       " 575: [0.0374, 0.0682],\n",
       " 576: [0.0396, 0.0],\n",
       " 577: [0.0396, 0.0022],\n",
       " 578: [0.0396, 0.0044],\n",
       " 579: [0.0396, 0.0066],\n",
       " 580: [0.0396, 0.0088],\n",
       " 581: [0.0396, 0.011],\n",
       " 582: [0.0396, 0.0132],\n",
       " 583: [0.0396, 0.0154],\n",
       " 584: [0.0396, 0.0176],\n",
       " 585: [0.0396, 0.0198],\n",
       " 586: [0.0396, 0.022],\n",
       " 587: [0.0396, 0.0242],\n",
       " 588: [0.0396, 0.0264],\n",
       " 589: [0.0396, 0.0286],\n",
       " 590: [0.0396, 0.0308],\n",
       " 591: [0.0396, 0.033],\n",
       " 592: [0.0396, 0.0352],\n",
       " 593: [0.0396, 0.0374],\n",
       " 594: [0.0396, 0.0396],\n",
       " 595: [0.0396, 0.0418],\n",
       " 596: [0.0396, 0.044],\n",
       " 597: [0.0396, 0.0462],\n",
       " 598: [0.0396, 0.0484],\n",
       " 599: [0.0396, 0.0506],\n",
       " 600: [0.0396, 0.0528],\n",
       " 601: [0.0396, 0.055],\n",
       " 602: [0.0396, 0.0572],\n",
       " 603: [0.0396, 0.0594],\n",
       " 604: [0.0396, 0.0616],\n",
       " 605: [0.0396, 0.0638],\n",
       " 606: [0.0396, 0.066],\n",
       " 607: [0.0396, 0.0682],\n",
       " 608: [0.0418, 0.0],\n",
       " 609: [0.0418, 0.0022],\n",
       " 610: [0.0418, 0.0044],\n",
       " 611: [0.0418, 0.0066],\n",
       " 612: [0.0418, 0.0088],\n",
       " 613: [0.0418, 0.011],\n",
       " 614: [0.0418, 0.0132],\n",
       " 615: [0.0418, 0.0154],\n",
       " 616: [0.0418, 0.0176],\n",
       " 617: [0.0418, 0.0198],\n",
       " 618: [0.0418, 0.022],\n",
       " 619: [0.0418, 0.0242],\n",
       " 620: [0.0418, 0.0264],\n",
       " 621: [0.0418, 0.0286],\n",
       " 622: [0.0418, 0.0308],\n",
       " 623: [0.0418, 0.033],\n",
       " 624: [0.0418, 0.0352],\n",
       " 625: [0.0418, 0.0374],\n",
       " 626: [0.0418, 0.0396],\n",
       " 627: [0.0418, 0.0418],\n",
       " 628: [0.0418, 0.044],\n",
       " 629: [0.0418, 0.0462],\n",
       " 630: [0.0418, 0.0484],\n",
       " 631: [0.0418, 0.0506],\n",
       " 632: [0.0418, 0.0528],\n",
       " 633: [0.0418, 0.055],\n",
       " 634: [0.0418, 0.0572],\n",
       " 635: [0.0418, 0.0594],\n",
       " 636: [0.0418, 0.0616],\n",
       " 637: [0.0418, 0.0638],\n",
       " 638: [0.0418, 0.066],\n",
       " 639: [0.0418, 0.0682],\n",
       " 640: [0.044, 0.0],\n",
       " 641: [0.044, 0.0022],\n",
       " 642: [0.044, 0.0044],\n",
       " 643: [0.044, 0.0066],\n",
       " 644: [0.044, 0.0088],\n",
       " 645: [0.044, 0.011],\n",
       " 646: [0.044, 0.0132],\n",
       " 647: [0.044, 0.0154],\n",
       " 648: [0.044, 0.0176],\n",
       " 649: [0.044, 0.0198],\n",
       " 650: [0.044, 0.022],\n",
       " 651: [0.044, 0.0242],\n",
       " 652: [0.044, 0.0264],\n",
       " 653: [0.044, 0.0286],\n",
       " 654: [0.044, 0.0308],\n",
       " 655: [0.044, 0.033],\n",
       " 656: [0.044, 0.0352],\n",
       " 657: [0.044, 0.0374],\n",
       " 658: [0.044, 0.0396],\n",
       " 659: [0.044, 0.0418],\n",
       " 660: [0.044, 0.044],\n",
       " 661: [0.044, 0.0462],\n",
       " 662: [0.044, 0.0484],\n",
       " 663: [0.044, 0.0506],\n",
       " 664: [0.044, 0.0528],\n",
       " 665: [0.044, 0.055],\n",
       " 666: [0.044, 0.0572],\n",
       " 667: [0.044, 0.0594],\n",
       " 668: [0.044, 0.0616],\n",
       " 669: [0.044, 0.0638],\n",
       " 670: [0.044, 0.066],\n",
       " 671: [0.044, 0.0682],\n",
       " 672: [0.0462, 0.0],\n",
       " 673: [0.0462, 0.0022],\n",
       " 674: [0.0462, 0.0044],\n",
       " 675: [0.0462, 0.0066],\n",
       " 676: [0.0462, 0.0088],\n",
       " 677: [0.0462, 0.011],\n",
       " 678: [0.0462, 0.0132],\n",
       " 679: [0.0462, 0.0154],\n",
       " 680: [0.0462, 0.0176],\n",
       " 681: [0.0462, 0.0198],\n",
       " 682: [0.0462, 0.022],\n",
       " 683: [0.0462, 0.0242],\n",
       " 684: [0.0462, 0.0264],\n",
       " 685: [0.0462, 0.0286],\n",
       " 686: [0.0462, 0.0308],\n",
       " 687: [0.0462, 0.033],\n",
       " 688: [0.0462, 0.0352],\n",
       " 689: [0.0462, 0.0374],\n",
       " 690: [0.0462, 0.0396],\n",
       " 691: [0.0462, 0.0418],\n",
       " 692: [0.0462, 0.044],\n",
       " 693: [0.0462, 0.0462],\n",
       " 694: [0.0462, 0.0484],\n",
       " 695: [0.0462, 0.0506],\n",
       " 696: [0.0462, 0.0528],\n",
       " 697: [0.0462, 0.055],\n",
       " 698: [0.0462, 0.0572],\n",
       " 699: [0.0462, 0.0594],\n",
       " 700: [0.0462, 0.0616],\n",
       " 701: [0.0462, 0.0638],\n",
       " 702: [0.0462, 0.066],\n",
       " 703: [0.0462, 0.0682],\n",
       " 704: [0.0484, 0.0],\n",
       " 705: [0.0484, 0.0022],\n",
       " 706: [0.0484, 0.0044],\n",
       " 707: [0.0484, 0.0066],\n",
       " 708: [0.0484, 0.0088],\n",
       " 709: [0.0484, 0.011],\n",
       " 710: [0.0484, 0.0132],\n",
       " 711: [0.0484, 0.0154],\n",
       " 712: [0.0484, 0.0176],\n",
       " 713: [0.0484, 0.0198],\n",
       " 714: [0.0484, 0.022],\n",
       " 715: [0.0484, 0.0242],\n",
       " 716: [0.0484, 0.0264],\n",
       " 717: [0.0484, 0.0286],\n",
       " 718: [0.0484, 0.0308],\n",
       " 719: [0.0484, 0.033],\n",
       " 720: [0.0484, 0.0352],\n",
       " 721: [0.0484, 0.0374],\n",
       " 722: [0.0484, 0.0396],\n",
       " 723: [0.0484, 0.0418],\n",
       " 724: [0.0484, 0.044],\n",
       " 725: [0.0484, 0.0462],\n",
       " 726: [0.0484, 0.0484],\n",
       " 727: [0.0484, 0.0506],\n",
       " 728: [0.0484, 0.0528],\n",
       " 729: [0.0484, 0.055],\n",
       " 730: [0.0484, 0.0572],\n",
       " 731: [0.0484, 0.0594],\n",
       " 732: [0.0484, 0.0616],\n",
       " 733: [0.0484, 0.0638],\n",
       " 734: [0.0484, 0.066],\n",
       " 735: [0.0484, 0.0682],\n",
       " 736: [0.0506, 0.0],\n",
       " 737: [0.0506, 0.0022],\n",
       " 738: [0.0506, 0.0044],\n",
       " 739: [0.0506, 0.0066],\n",
       " 740: [0.0506, 0.0088],\n",
       " 741: [0.0506, 0.011],\n",
       " 742: [0.0506, 0.0132],\n",
       " 743: [0.0506, 0.0154],\n",
       " 744: [0.0506, 0.0176],\n",
       " 745: [0.0506, 0.0198],\n",
       " 746: [0.0506, 0.022],\n",
       " 747: [0.0506, 0.0242],\n",
       " 748: [0.0506, 0.0264],\n",
       " 749: [0.0506, 0.0286],\n",
       " 750: [0.0506, 0.0308],\n",
       " 751: [0.0506, 0.033],\n",
       " 752: [0.0506, 0.0352],\n",
       " 753: [0.0506, 0.0374],\n",
       " 754: [0.0506, 0.0396],\n",
       " 755: [0.0506, 0.0418],\n",
       " 756: [0.0506, 0.044],\n",
       " 757: [0.0506, 0.0462],\n",
       " 758: [0.0506, 0.0484],\n",
       " 759: [0.0506, 0.0506],\n",
       " 760: [0.0506, 0.0528],\n",
       " 761: [0.0506, 0.055],\n",
       " 762: [0.0506, 0.0572],\n",
       " 763: [0.0506, 0.0594],\n",
       " 764: [0.0506, 0.0616],\n",
       " 765: [0.0506, 0.0638],\n",
       " 766: [0.0506, 0.066],\n",
       " 767: [0.0506, 0.0682],\n",
       " 768: [0.0528, 0.0],\n",
       " 769: [0.0528, 0.0022],\n",
       " 770: [0.0528, 0.0044],\n",
       " 771: [0.0528, 0.0066],\n",
       " 772: [0.0528, 0.0088],\n",
       " 773: [0.0528, 0.011],\n",
       " 774: [0.0528, 0.0132],\n",
       " 775: [0.0528, 0.0154],\n",
       " 776: [0.0528, 0.0176],\n",
       " 777: [0.0528, 0.0198],\n",
       " 778: [0.0528, 0.022],\n",
       " 779: [0.0528, 0.0242],\n",
       " 780: [0.0528, 0.0264],\n",
       " 781: [0.0528, 0.0286],\n",
       " 782: [0.0528, 0.0308],\n",
       " 783: [0.0528, 0.033],\n",
       " 784: [0.0528, 0.0352],\n",
       " 785: [0.0528, 0.0374],\n",
       " 786: [0.0528, 0.0396],\n",
       " 787: [0.0528, 0.0418],\n",
       " 788: [0.0528, 0.044],\n",
       " 789: [0.0528, 0.0462],\n",
       " 790: [0.0528, 0.0484],\n",
       " 791: [0.0528, 0.0506],\n",
       " 792: [0.0528, 0.0528],\n",
       " 793: [0.0528, 0.055],\n",
       " 794: [0.0528, 0.0572],\n",
       " 795: [0.0528, 0.0594],\n",
       " 796: [0.0528, 0.0616],\n",
       " 797: [0.0528, 0.0638],\n",
       " 798: [0.0528, 0.066],\n",
       " 799: [0.0528, 0.0682],\n",
       " 800: [0.055, 0.0],\n",
       " 801: [0.055, 0.0022],\n",
       " 802: [0.055, 0.0044],\n",
       " 803: [0.055, 0.0066],\n",
       " 804: [0.055, 0.0088],\n",
       " 805: [0.055, 0.011],\n",
       " 806: [0.055, 0.0132],\n",
       " 807: [0.055, 0.0154],\n",
       " 808: [0.055, 0.0176],\n",
       " 809: [0.055, 0.0198],\n",
       " 810: [0.055, 0.022],\n",
       " 811: [0.055, 0.0242],\n",
       " 812: [0.055, 0.0264],\n",
       " 813: [0.055, 0.0286],\n",
       " 814: [0.055, 0.0308],\n",
       " 815: [0.055, 0.033],\n",
       " 816: [0.055, 0.0352],\n",
       " 817: [0.055, 0.0374],\n",
       " 818: [0.055, 0.0396],\n",
       " 819: [0.055, 0.0418],\n",
       " 820: [0.055, 0.044],\n",
       " 821: [0.055, 0.0462],\n",
       " 822: [0.055, 0.0484],\n",
       " 823: [0.055, 0.0506],\n",
       " 824: [0.055, 0.0528],\n",
       " 825: [0.055, 0.055],\n",
       " 826: [0.055, 0.0572],\n",
       " 827: [0.055, 0.0594],\n",
       " 828: [0.055, 0.0616],\n",
       " 829: [0.055, 0.0638],\n",
       " 830: [0.055, 0.066],\n",
       " 831: [0.055, 0.0682],\n",
       " 832: [0.0572, 0.0],\n",
       " 833: [0.0572, 0.0022],\n",
       " 834: [0.0572, 0.0044],\n",
       " 835: [0.0572, 0.0066],\n",
       " 836: [0.0572, 0.0088],\n",
       " 837: [0.0572, 0.011],\n",
       " 838: [0.0572, 0.0132],\n",
       " 839: [0.0572, 0.0154],\n",
       " 840: [0.0572, 0.0176],\n",
       " 841: [0.0572, 0.0198],\n",
       " 842: [0.0572, 0.022],\n",
       " 843: [0.0572, 0.0242],\n",
       " 844: [0.0572, 0.0264],\n",
       " 845: [0.0572, 0.0286],\n",
       " 846: [0.0572, 0.0308],\n",
       " 847: [0.0572, 0.033],\n",
       " 848: [0.0572, 0.0352],\n",
       " 849: [0.0572, 0.0374],\n",
       " 850: [0.0572, 0.0396],\n",
       " 851: [0.0572, 0.0418],\n",
       " 852: [0.0572, 0.044],\n",
       " 853: [0.0572, 0.0462],\n",
       " 854: [0.0572, 0.0484],\n",
       " 855: [0.0572, 0.0506],\n",
       " 856: [0.0572, 0.0528],\n",
       " 857: [0.0572, 0.055],\n",
       " 858: [0.0572, 0.0572],\n",
       " 859: [0.0572, 0.0594],\n",
       " 860: [0.0572, 0.0616],\n",
       " 861: [0.0572, 0.0638],\n",
       " 862: [0.0572, 0.066],\n",
       " 863: [0.0572, 0.0682],\n",
       " 864: [0.0594, 0.0],\n",
       " 865: [0.0594, 0.0022],\n",
       " 866: [0.0594, 0.0044],\n",
       " 867: [0.0594, 0.0066],\n",
       " 868: [0.0594, 0.0088],\n",
       " 869: [0.0594, 0.011],\n",
       " 870: [0.0594, 0.0132],\n",
       " 871: [0.0594, 0.0154],\n",
       " 872: [0.0594, 0.0176],\n",
       " 873: [0.0594, 0.0198],\n",
       " 874: [0.0594, 0.022],\n",
       " 875: [0.0594, 0.0242],\n",
       " 876: [0.0594, 0.0264],\n",
       " 877: [0.0594, 0.0286],\n",
       " 878: [0.0594, 0.0308],\n",
       " 879: [0.0594, 0.033],\n",
       " 880: [0.0594, 0.0352],\n",
       " 881: [0.0594, 0.0374],\n",
       " 882: [0.0594, 0.0396],\n",
       " 883: [0.0594, 0.0418],\n",
       " 884: [0.0594, 0.044],\n",
       " 885: [0.0594, 0.0462],\n",
       " 886: [0.0594, 0.0484],\n",
       " 887: [0.0594, 0.0506],\n",
       " 888: [0.0594, 0.0528],\n",
       " 889: [0.0594, 0.055],\n",
       " 890: [0.0594, 0.0572],\n",
       " 891: [0.0594, 0.0594],\n",
       " 892: [0.0594, 0.0616],\n",
       " 893: [0.0594, 0.0638],\n",
       " 894: [0.0594, 0.066],\n",
       " 895: [0.0594, 0.0682],\n",
       " 896: [0.0616, 0.0],\n",
       " 897: [0.0616, 0.0022],\n",
       " 898: [0.0616, 0.0044],\n",
       " 899: [0.0616, 0.0066],\n",
       " 900: [0.0616, 0.0088],\n",
       " 901: [0.0616, 0.011],\n",
       " 902: [0.0616, 0.0132],\n",
       " 903: [0.0616, 0.0154],\n",
       " 904: [0.0616, 0.0176],\n",
       " 905: [0.0616, 0.0198],\n",
       " 906: [0.0616, 0.022],\n",
       " 907: [0.0616, 0.0242],\n",
       " 908: [0.0616, 0.0264],\n",
       " 909: [0.0616, 0.0286],\n",
       " 910: [0.0616, 0.0308],\n",
       " 911: [0.0616, 0.033],\n",
       " 912: [0.0616, 0.0352],\n",
       " 913: [0.0616, 0.0374],\n",
       " 914: [0.0616, 0.0396],\n",
       " 915: [0.0616, 0.0418],\n",
       " 916: [0.0616, 0.044],\n",
       " 917: [0.0616, 0.0462],\n",
       " 918: [0.0616, 0.0484],\n",
       " 919: [0.0616, 0.0506],\n",
       " 920: [0.0616, 0.0528],\n",
       " 921: [0.0616, 0.055],\n",
       " 922: [0.0616, 0.0572],\n",
       " 923: [0.0616, 0.0594],\n",
       " 924: [0.0616, 0.0616],\n",
       " 925: [0.0616, 0.0638],\n",
       " 926: [0.0616, 0.066],\n",
       " 927: [0.0616, 0.0682],\n",
       " 928: [0.0638, 0.0],\n",
       " 929: [0.0638, 0.0022],\n",
       " 930: [0.0638, 0.0044],\n",
       " 931: [0.0638, 0.0066],\n",
       " 932: [0.0638, 0.0088],\n",
       " 933: [0.0638, 0.011],\n",
       " 934: [0.0638, 0.0132],\n",
       " 935: [0.0638, 0.0154],\n",
       " 936: [0.0638, 0.0176],\n",
       " 937: [0.0638, 0.0198],\n",
       " 938: [0.0638, 0.022],\n",
       " 939: [0.0638, 0.0242],\n",
       " 940: [0.0638, 0.0264],\n",
       " 941: [0.0638, 0.0286],\n",
       " 942: [0.0638, 0.0308],\n",
       " 943: [0.0638, 0.033],\n",
       " 944: [0.0638, 0.0352],\n",
       " 945: [0.0638, 0.0374],\n",
       " 946: [0.0638, 0.0396],\n",
       " 947: [0.0638, 0.0418],\n",
       " 948: [0.0638, 0.044],\n",
       " 949: [0.0638, 0.0462],\n",
       " 950: [0.0638, 0.0484],\n",
       " 951: [0.0638, 0.0506],\n",
       " 952: [0.0638, 0.0528],\n",
       " 953: [0.0638, 0.055],\n",
       " 954: [0.0638, 0.0572],\n",
       " 955: [0.0638, 0.0594],\n",
       " 956: [0.0638, 0.0616],\n",
       " 957: [0.0638, 0.0638],\n",
       " 958: [0.0638, 0.066],\n",
       " 959: [0.0638, 0.0682],\n",
       " 960: [0.066, 0.0],\n",
       " 961: [0.066, 0.0022],\n",
       " 962: [0.066, 0.0044],\n",
       " 963: [0.066, 0.0066],\n",
       " 964: [0.066, 0.0088],\n",
       " 965: [0.066, 0.011],\n",
       " 966: [0.066, 0.0132],\n",
       " 967: [0.066, 0.0154],\n",
       " 968: [0.066, 0.0176],\n",
       " 969: [0.066, 0.0198],\n",
       " 970: [0.066, 0.022],\n",
       " 971: [0.066, 0.0242],\n",
       " 972: [0.066, 0.0264],\n",
       " 973: [0.066, 0.0286],\n",
       " 974: [0.066, 0.0308],\n",
       " 975: [0.066, 0.033],\n",
       " 976: [0.066, 0.0352],\n",
       " 977: [0.066, 0.0374],\n",
       " 978: [0.066, 0.0396],\n",
       " 979: [0.066, 0.0418],\n",
       " 980: [0.066, 0.044],\n",
       " 981: [0.066, 0.0462],\n",
       " 982: [0.066, 0.0484],\n",
       " 983: [0.066, 0.0506],\n",
       " 984: [0.066, 0.0528],\n",
       " 985: [0.066, 0.055],\n",
       " 986: [0.066, 0.0572],\n",
       " 987: [0.066, 0.0594],\n",
       " 988: [0.066, 0.0616],\n",
       " 989: [0.066, 0.0638],\n",
       " 990: [0.066, 0.066],\n",
       " 991: [0.066, 0.0682],\n",
       " 992: [0.0682, 0.0],\n",
       " 993: [0.0682, 0.0022],\n",
       " 994: [0.0682, 0.0044],\n",
       " 995: [0.0682, 0.0066],\n",
       " 996: [0.0682, 0.0088],\n",
       " 997: [0.0682, 0.011],\n",
       " 998: [0.0682, 0.0132],\n",
       " 999: [0.0682, 0.0154],\n",
       " ...}"
      ]
     },
     "execution_count": 23,
     "metadata": {},
     "output_type": "execute_result"
    }
   ],
   "source": [
    "#pad id\n",
    "padid = {}\n",
    "counter=0\n",
    "np.set_printoptions(suppress=True)\n",
    "for x in padxpos:\n",
    "    for y in padypos:\n",
    "        padid[counter]= [x.round(6),y.round(6)]\n",
    "        counter +=1\n",
    "padid"
   ]
  },
  {
   "cell_type": "code",
   "execution_count": 24,
   "id": "af292a81",
   "metadata": {},
   "outputs": [
    {
     "data": {
      "text/plain": [
       "<matplotlib.collections.PathCollection at 0x7f3c9e8efaf0>"
      ]
     },
     "execution_count": 24,
     "metadata": {},
     "output_type": "execute_result"
    },
    {
     "data": {
      "image/png": "[encoded data removed]",
      "text/plain": [
       "<Figure size 720x720 with 1 Axes>"
      ]
     },
     "metadata": {
      "needs_background": "light"
     },
     "output_type": "display_data"
    }
   ],
   "source": [
    "xval = np.array([])\n",
    "yval = np.array([])\n",
    "for x in padxpos:\n",
    "    for y in padypos:\n",
    "        xval=np.append(xval,x)\n",
    "        yval=np.append(yval,y)\n",
    "plt.figure(figsize=(10,10))\n",
    "plt.scatter(xval,yval,marker=\"s\",lw=10,edgecolors=\"grey\")"
   ]
  },
  {
   "cell_type": "markdown",
   "id": "c22b1539",
   "metadata": {},
   "source": [
    "### Placing electron and charge spread"
   ]
  },
  {
   "cell_type": "code",
   "execution_count": 25,
   "id": "21f11129",
   "metadata": {},
   "outputs": [
    {
     "data": {
      "text/plain": [
       "<matplotlib.collections.PathCollection at 0x7f3c9c1011f0>"
      ]
     },
     "execution_count": 25,
     "metadata": {},
     "output_type": "execute_result"
    },
    {
     "data": {
      "image/png": "[encoded data removed]",
      "text/plain": [
       "<Figure size 432x288 with 1 Axes>"
      ]
     },
     "metadata": {
      "needs_background": "light"
     },
     "output_type": "display_data"
    }
   ],
   "source": [
    "electronpos = np.random.uniform(0,32*2.2e-3,2)\n",
    "pointpos = np.array([])\n",
    "\n",
    "points = 200\n",
    "rmax = 0.001745\n",
    "rrange = np.random.uniform(-rmax,rmax,points)\n",
    "xtest = rrange*np.cos(np.random.uniform(0,np.pi,points))+electronpos[0]\n",
    "ytest = rrange*np.sin(np.random.uniform(0,np.pi,points))+electronpos[1]\n",
    "\n",
    "plt.scatter(xtest,ytest,marker=\".\",lw=0.01)\n",
    "plt.scatter(electronpos[0],electronpos[1],color=\"g\")\n"
   ]
  },
  {
   "cell_type": "code",
   "execution_count": 26,
   "id": "1785a868",
   "metadata": {},
   "outputs": [
    {
     "data": {
      "text/plain": [
       "<matplotlib.collections.PathCollection at 0x7f3c9c5a7e80>"
      ]
     },
     "execution_count": 26,
     "metadata": {},
     "output_type": "execute_result"
    },
    {
     "data": {
      "image/png": "[encoded data removed]",
      "text/plain": [
       "<Figure size 720x720 with 1 Axes>"
      ]
     },
     "metadata": {
      "needs_background": "light"
     },
     "output_type": "display_data"
    }
   ],
   "source": [
    "#put them together\n",
    "plt.figure(figsize=(10,10))\n",
    "plt.scatter(xval,yval,marker=\"s\",lw=10,edgecolors=\"grey\")\n",
    "plt.scatter(xtest,ytest,marker=\".\",lw=0.01)\n",
    "plt.scatter(electronpos[0],electronpos[1],color=\"r\",marker=\"*\",lw=4)"
   ]
  },
  {
   "cell_type": "markdown",
   "id": "bce48050",
   "metadata": {},
   "source": [
    "### putting it all together"
   ]
  },
  {
   "cell_type": "code",
   "execution_count": 27,
   "id": "c822aaf1",
   "metadata": {
    "scrolled": false
   },
   "outputs": [
    {
     "data": {
      "text/plain": [
       "<matplotlib.collections.PathCollection at 0x7f3c9c0709a0>"
      ]
     },
     "execution_count": 27,
     "metadata": {},
     "output_type": "execute_result"
    },
    {
     "data": {
      "image/png": "[encoded data removed]",
      "text/plain": [
       "<Figure size 720x720 with 1 Axes>"
      ]
     },
     "metadata": {
      "needs_background": "light"
     },
     "output_type": "display_data"
    }
   ],
   "source": [
    "electronpos = np.random.uniform(rmax,32*2.2e-3-rmax,2)\n",
    "pointpos = np.array([])\n",
    "\n",
    "points = 50\n",
    "rmax = 0.001745\n",
    "rrange = np.random.uniform(-rmax,rmax,points)\n",
    "xtest = rrange*np.cos(np.random.uniform(0,np.pi,points))+electronpos[0]\n",
    "ytest = rrange*np.sin(np.random.uniform(0,np.pi,points))+electronpos[1]\n",
    "\n",
    "filterx=np.where((xval>= np.min(xtest)-1.1e-3)&(xval<=(np.max(xtest)+1.1e-3))&(yval>= (np.min(ytest)-1.1e-3))&(yval<=np.max(ytest)+1.1e-3))\n",
    "plt.figure(figsize=(10,10))\n",
    "plt.scatter(xval,yval,marker=\"s\",lw=10,edgecolors=\"grey\")\n",
    "plt.scatter(xval[filterx],yval[filterx],marker=\"s\",lw=10,edgecolors=\"green\")\n",
    "plt.scatter(xtest,ytest,marker=\".\",lw=0.01,color=\"orange\")\n",
    "plt.scatter(electronpos[0],electronpos[1],color=\"r\",marker=\"*\",lw=4)"
   ]
  },
  {
   "cell_type": "markdown",
   "id": "097108e1",
   "metadata": {},
   "source": [
    "### Spreading points better."
   ]
  },
  {
   "cell_type": "code",
   "execution_count": 28,
   "id": "6e03316e",
   "metadata": {
    "scrolled": true
   },
   "outputs": [
    {
     "data": {
      "text/plain": [
       "<matplotlib.collections.PathCollection at 0x7f3c9c01fb20>"
      ]
     },
     "execution_count": 28,
     "metadata": {},
     "output_type": "execute_result"
    },
    {
     "data": {
      "image/png": "[encoded data removed]",
      "text/plain": [
       "<Figure size 432x288 with 1 Axes>"
      ]
     },
     "metadata": {
      "needs_background": "light"
     },
     "output_type": "display_data"
    }
   ],
   "source": [
    "points = 200\n",
    "rmax = 0.001745\n",
    "ppa = 10 #number of points per annulie\n",
    "np.random.seed(seed=2)\n",
    "valuesr = np.logspace(np.log(0.00001), np.log(rmax), int(points / ppa), base=np.exp(1))\n",
    "pirange = np.linspace(0.00001,2*np.pi,int(ppa))\n",
    "x1 = np.array([])\n",
    "y1 = np.array([])\n",
    "for r in valuesr:\n",
    "    for theta in pirange:\n",
    "        x1=np.append(x1,round(r*np.cos(theta),6)+electronpos[0])\n",
    "        y1=np.append(y1,round(r*np.sin(theta),6)+electronpos[1])\n",
    "plt.scatter(x1,y1,marker=\".\",lw=0.01)\n",
    "\n"
   ]
  },
  {
   "cell_type": "code",
   "execution_count": 29,
   "id": "cba7bd6b",
   "metadata": {},
   "outputs": [
    {
     "data": {
      "text/plain": [
       "<matplotlib.collections.PathCollection at 0x7f3c9c424cd0>"
      ]
     },
     "execution_count": 29,
     "metadata": {},
     "output_type": "execute_result"
    },
    {
     "data": {
      "image/png": "[encoded data removed]",
      "text/plain": [
       "<Figure size 720x720 with 1 Axes>"
      ]
     },
     "metadata": {
      "needs_background": "light"
     },
     "output_type": "display_data"
    }
   ],
   "source": [
    "np.random.seed()\n",
    "electronpos = np.random.uniform(0,32*2.2e-3,2)\n",
    "\n",
    "points = 200\n",
    "rmax = 0.001745\n",
    "ppa = 10 #number of points per annulie\n",
    "np.random.seed(seed=2)\n",
    "valuesr = np.logspace(np.log(0.00001), np.log(rmax), int(points / ppa), base=np.exp(1))\n",
    "pirange = np.linspace(0.00001,2*np.pi,int(ppa))\n",
    "x1 = np.array([])\n",
    "y1 = np.array([])\n",
    "for r in valuesr:\n",
    "    for theta in pirange:\n",
    "        x1=np.append(x1,round(r*np.cos(theta),6)+electronpos[0])\n",
    "        y1=np.append(y1,round(r*np.sin(theta),6)+electronpos[1])\n",
    "\n",
    "\n",
    "\n",
    "filterx=np.where((xval>= np.min(x1)-1.1e-3)&(xval<=(np.max(x1)+1.1e-3))&(yval>= (np.min(y1)-1.1e-3))&(yval<=np.max(y1)+1.1e-3))\n",
    "plt.figure(figsize=(10,10))\n",
    "plt.scatter(xval,yval,marker=\"s\",lw=10,edgecolors=\"grey\")\n",
    "plt.scatter(xval[filterx],yval[filterx],marker=\"s\",lw=10,edgecolors=\"green\")\n",
    "plt.scatter(x1,y1,marker=\".\",lw=0.01,color=\"orange\")\n",
    "plt.scatter(electronpos[0],electronpos[1],color=\"r\",marker=\"*\",lw=4)"
   ]
  },
  {
   "cell_type": "markdown",
   "id": "cdcd943b",
   "metadata": {},
   "source": [
    "### Grid of points"
   ]
  },
  {
   "cell_type": "code",
   "execution_count": 30,
   "id": "eada0573",
   "metadata": {
    "scrolled": true
   },
   "outputs": [
    {
     "data": {
      "text/plain": [
       "<matplotlib.collections.PathCollection at 0x7f3c9c5ab670>"
      ]
     },
     "execution_count": 30,
     "metadata": {},
     "output_type": "execute_result"
    },
    {
     "data": {
      "image/png": "[encoded data removed]",
      "text/plain": [
       "<Figure size 432x288 with 1 Axes>"
      ]
     },
     "metadata": {
      "needs_background": "light"
     },
     "output_type": "display_data"
    }
   ],
   "source": [
    "rmax= 0.001745\n",
    "points=100\n",
    "xgrid=np.linspace(-rmax,rmax,int(np.sqrt(points)))\n",
    "ygrid=np.linspace(-rmax,rmax,int(np.sqrt(points)))\n",
    "xg=[]\n",
    "yg=[]\n",
    "for x in xgrid:\n",
    "    for y in ygrid:\n",
    "        if x**2+y**2<rmax**2:\n",
    "            xg.append(x)\n",
    "            yg.append(y)\n",
    "plt.scatter(xg,yg)"
   ]
  },
  {
   "cell_type": "markdown",
   "id": "e8f00404",
   "metadata": {},
   "source": [
    "### Galalian point distribution"
   ]
  },
  {
   "cell_type": "code",
   "execution_count": 61,
   "id": "db5cccdf",
   "metadata": {},
   "outputs": [
    {
     "name": "stdout",
     "output_type": "stream",
     "text": [
      "0.0\n",
      "2.0943951023931953\n",
      "4.1887902047863905\n",
      "6.283185307179586\n",
      "0.0\n",
      "3.141592653589793\n",
      "6.283185307179586\n"
     ]
    },
    {
     "data": {
      "text/plain": [
       "<matplotlib.collections.PathCollection at 0x7f3c92e17700>"
      ]
     },
     "execution_count": 61,
     "metadata": {},
     "output_type": "execute_result"
    },
    {
     "data": {
      "image/png": "[encoded data removed]",
      "text/plain": [
       "<Figure size 432x288 with 1 Axes>"
      ]
     },
     "metadata": {
      "needs_background": "light"
     },
     "output_type": "display_data"
    }
   ],
   "source": [
    "x= []\n",
    "y = []\n",
    "points=4\n",
    "count=3\n",
    "while points>=0:\n",
    "    points=points-count\n",
    "    if points>0:\n",
    "        count=count+1\n",
    "rangepoints = np.arange(3,count+1)\n",
    "reversed_arr = rangepoints[::-1]\n",
    "rrange=np.linspace(0,rmax,len(reversed_arr)+1)\n",
    "rrange=np.delete(rrange,0)\n",
    "for i in range(len(rrange)):\n",
    "    for theta in np.linspace(0,2*np.pi,reversed_arr[i]):\n",
    "        print(theta)\n",
    "        x.append(rrange[i]*np.cos(theta-np.pi/4))\n",
    "        y.append(rrange[i]*np.sin(theta-np.pi/4))\n",
    "        \n",
    "plt.scatter(x,y)"
   ]
  },
  {
   "cell_type": "code",
   "execution_count": 53,
   "id": "a39ede82",
   "metadata": {},
   "outputs": [
    {
     "data": {
      "text/plain": [
       "array([8, 7, 6, 5, 4, 3])"
      ]
     },
     "execution_count": 53,
     "metadata": {},
     "output_type": "execute_result"
    }
   ],
   "source": [
    "reversed_arr"
   ]
  },
  {
   "cell_type": "markdown",
   "id": "575f3404",
   "metadata": {},
   "source": [
    "### Finding charge per pad."
   ]
  },
  {
   "cell_type": "code",
   "execution_count": null,
   "id": "0e65994b",
   "metadata": {},
   "outputs": [],
   "source": [
    "\"\"\"rad= np.array([0,])\n",
    "rad= np.append(rad,ChangeA.iloc[:,0])\n",
    "Totcharge = ChangeA.iloc[:,1]\n",
    "count = 0\n",
    "cpptest = np.array([]) #charge per point in coulombs\n",
    "for i in range(1,len(rad)):\n",
    "    for cur in rrange:\n",
    "        if cur > rad[i-1] and cur< rad[i]:\n",
    "            count += 1\n",
    "    if count > 0:\n",
    "        cpptest = np.append(cpptest,Totcharge[i-1]/count)\n",
    "    else:\n",
    "        cpptest = np.append(cpptest,0)\n",
    "\"\"\"\n"
   ]
  },
  {
   "cell_type": "code",
   "execution_count": null,
   "id": "771b99eb",
   "metadata": {},
   "outputs": [],
   "source": []
  }
 ],
 "metadata": {
  "kernelspec": {
   "display_name": "Python 3",
   "language": "python",
   "name": "python3"
  },
  "language_info": {
   "codemirror_mode": {
    "name": "ipython",
    "version": 3
   },
   "file_extension": ".py",
   "mimetype": "text/x-python",
   "name": "python",
   "nbconvert_exporter": "python",
   "pygments_lexer": "ipython3",
   "version": "3.8.8"
  }
 },
 "nbformat": 4,
 "nbformat_minor": 5
}
