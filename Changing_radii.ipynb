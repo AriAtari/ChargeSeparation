{
 "cells": [
  {
   "cell_type": "code",
   "execution_count": 5,
   "id": "56f5d8d2",
   "metadata": {},
   "outputs": [],
   "source": [
    "import matplotlib.pyplot as plt\n",
    "%matplotlib inline\n",
    "import numpy as np\n",
    "import scipy.integrate as inta"
   ]
  },
  {
   "cell_type": "code",
   "execution_count": 7,
   "id": "c6f3c2be",
   "metadata": {},
   "outputs": [
    {
     "data": {
      "text/plain": [
       "(0.33333333333333337, 3.700743415417189e-15)"
      ]
     },
     "execution_count": 7,
     "metadata": {},
     "output_type": "execute_result"
    }
   ],
   "source": [
    "inta.quad(lambda x: x**2,0,1)"
   ]
  },
  {
   "cell_type": "markdown",
   "id": "601c6f43",
   "metadata": {},
   "source": [
    "## * Finding $R_{max}$"
   ]
  },
  {
   "cell_type": "code",
   "execution_count": 17,
   "id": "b45d528c",
   "metadata": {},
   "outputs": [
    {
     "name": "stdout",
     "output_type": "stream",
     "text": [
      "[0.e+00 1.e-05] 1\n",
      "[0.e+00 1.e-05 2.e-05] 2\n",
      "[0.e+00 1.e-05 2.e-05 3.e-05] 3\n",
      "[0.e+00 1.e-05 2.e-05 3.e-05 4.e-05] 4\n",
      "[0.e+00 1.e-05 2.e-05 3.e-05 4.e-05 5.e-05] 5\n"
     ]
    }
   ],
   "source": [
    "Nq = 200 #gain is 200 MeV\n",
    "R = 2.5e+6 # Surface resistivity (ohm/square)\n",
    "d = 100e-6 # Anode-readout plane separation (m)\n",
    "eps_0 = 8.854e-12 # Permittivity of a vacuum (F/m)\n",
    "k_1 = 3.3 # Relative permittivity of dielectric material (glue)\n",
    "k_2 = 3.1 # Relative permittivity of dielectric material (mylar)\n",
    "C = ((2*eps_0)/d)*((k_1*k_2)/(k_1+k_2)) # Capacitance per unit area with two dielectrics\n",
    "h = 1/(R*C)\n",
    "q = np.array([])\n",
    "r = np.array([])\n",
    "r = np.append(r,0)\n",
    "i = 0 #to keep track of index\n",
    "found = False \n",
    "while found == False:\n",
    "    r = np.append(r,r[i]+1e-5)\n",
    "    i += 1\n",
    "    print(r,i)\n",
    "    if i == 5:\n",
    "        \n",
    "        found = True"
   ]
  },
  {
   "cell_type": "code",
   "execution_count": null,
   "id": "c9752bb9",
   "metadata": {},
   "outputs": [],
   "source": []
  }
 ],
 "metadata": {
  "kernelspec": {
   "display_name": "Python 3",
   "language": "python",
   "name": "python3"
  },
  "language_info": {
   "codemirror_mode": {
    "name": "ipython",
    "version": 3
   },
   "file_extension": ".py",
   "mimetype": "text/x-python",
   "name": "python",
   "nbconvert_exporter": "python",
   "pygments_lexer": "ipython3",
   "version": "3.8.8"
  }
 },
 "nbformat": 4,
 "nbformat_minor": 5
}
