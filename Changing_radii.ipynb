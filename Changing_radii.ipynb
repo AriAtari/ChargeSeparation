{
 "cells": [
  {
   "cell_type": "code",
   "execution_count": 20,
   "id": "56f5d8d2",
   "metadata": {},
   "outputs": [],
   "source": [
    "import matplotlib.pyplot as plt\n",
    "%matplotlib inline\n",
    "import numpy as np\n",
    "import scipy.integrate as inta\n",
    "import pandas as pd"
   ]
  },
  {
   "cell_type": "code",
   "execution_count": 2,
   "id": "c6f3c2be",
   "metadata": {},
   "outputs": [
    {
     "data": {
      "text/plain": [
       "(0.33333333333333337, 3.700743415417189e-15)"
      ]
     },
     "execution_count": 2,
     "metadata": {},
     "output_type": "execute_result"
    }
   ],
   "source": [
    "inta.quad(lambda x: x**2,0,1)"
   ]
  },
  {
   "cell_type": "markdown",
   "id": "601c6f43",
   "metadata": {},
   "source": [
    "## * Finding $R_{max}$"
   ]
  },
  {
   "cell_type": "code",
   "execution_count": 69,
   "id": "b45d528c",
   "metadata": {},
   "outputs": [
    {
     "name": "stdout",
     "output_type": "stream",
     "text": [
      "[0.     0.0001 0.0002 0.0003 0.0004 0.0005 0.0006 0.0007 0.0008 0.0009\n",
      " 0.001  0.0011 0.0012 0.0013 0.0014 0.0015 0.0016 0.0017 0.0018 0.0019\n",
      " 0.002  0.0021 0.0022 0.0023 0.0024 0.0025 0.0026 0.0027 0.0028 0.0029\n",
      " 0.003  0.0031 0.0032 0.0033 0.0034 0.0035 0.0036 0.0037] 36 [7.76070785e+02 7.17757750e+02 6.13946977e+02 4.85690920e+02\n",
      " 3.55356970e+02 2.40461129e+02 1.50487157e+02 8.71019139e+01\n",
      " 4.66260605e+01 2.30834889e+01 1.05692626e+01 4.47566049e+00\n",
      " 1.75282018e+00 6.34868587e-01 2.12664459e-01 6.58823144e-02\n",
      " 1.88757312e-02 5.00147134e-03 1.22560018e-03 2.77750445e-04\n",
      " 5.82121215e-05 1.12829467e-05 2.02245914e-06 3.35260722e-07\n",
      " 5.13959426e-08 7.28644547e-09 9.55302164e-10 1.15824746e-10\n",
      " 1.29865818e-11 1.34653790e-12 1.29112958e-13 1.14484283e-14\n",
      " 9.38737030e-16 7.11805452e-17 4.99108741e-18 3.23625526e-19]\n"
     ]
    },
    {
     "data": {
      "text/plain": [
       "Text(0.5, 1.0, 'Total charge between radii')"
      ]
     },
     "execution_count": 69,
     "metadata": {},
     "output_type": "execute_result"
    },
    {
     "data": {
      "image/png": "[encoded data removed]",
      "text/plain": [
       "<Figure size 432x288 with 1 Axes>"
      ]
     },
     "metadata": {
      "needs_background": "light"
     },
     "output_type": "display_data"
    }
   ],
   "source": [
    "Nq = 200 #gain is 200 MeV\n",
    "R = 2.5e+6 # Surface resistivity (ohm/square)\n",
    "d = 100e-6 # Anode-readout plane separation (m)\n",
    "eps_0 = 8.854e-12 # Permittivity of a vacuum (F/m)\n",
    "k_1 = 3.3 # Relative permittivity of dielectric material (glue)\n",
    "k_2 = 3.1 # Relative permittivity of dielectric material (mylar)\n",
    "C = ((2*eps_0)/d)*((k_1*k_2)/(k_1+k_2)) # Capacitance per unit area with two dielectrics\n",
    "h = 1/(R*C)\n",
    "q = np.array([])\n",
    "r = np.array([])\n",
    "r = np.append(r,0)\n",
    "t = 45e-9 #45 nano seconds \n",
    "e = 1.60217662e-19 #charge of an electron in coulombs\n",
    "i = 0 #to keep track of index\n",
    "found = False \n",
    "while found == False:\n",
    "    r = np.append(r,r[i]+1e-4)\n",
    "    charge = inta.quad(lambda x: 1/(2*t*h)*np.exp(-x**2/(4*t*h)),r[i],r[i+1])\n",
    "    if charge[0] <= e:\n",
    "        print(r,i,q)\n",
    "        found = True\n",
    "    q = np.append(q,charge[0])\n",
    "\n",
    "    i += 1\n",
    "r = np.delete(r,0)   \n",
    "plt.plot(r,q,marker= \"X\",markerfacecolor='red',markeredgecolor = 'green')\n",
    "plt.xlabel(\"radius (m)\")\n",
    "plt.ylabel(\"Total charge\")\n",
    "plt.title(\"Total charge between radii\")"
   ]
  },
  {
   "cell_type": "markdown",
   "id": "f1b00026",
   "metadata": {},
   "source": [
    "### Lets focus on the parts where Total charge is less than 1"
   ]
  },
  {
   "cell_type": "code",
   "execution_count": 68,
   "id": "c9752bb9",
   "metadata": {},
   "outputs": [
    {
     "data": {
      "text/plain": [
       "Text(0.5, 1.0, 'Total charge between radii')"
      ]
     },
     "execution_count": 68,
     "metadata": {},
     "output_type": "execute_result"
    },
    {
     "data": {
      "image/png": "[encoded data removed]",
      "text/plain": [
       "<Figure size 432x288 with 1 Axes>"
      ]
     },
     "metadata": {
      "needs_background": "light"
     },
     "output_type": "display_data"
    }
   ],
   "source": [
    "\n",
    "plt.plot(r[np.where(q<1)],q[np.where(q<1)],marker= \"X\",markerfacecolor='red',markeredgecolor = 'green')\n",
    "plt.xlabel(\"radius (m)\")\n",
    "plt.ylabel(\"Total charge\")\n",
    "plt.title(\"Total charge between radii\")"
   ]
  },
  {
   "cell_type": "markdown",
   "id": "248e82d2",
   "metadata": {},
   "source": [
    "### Lets make a Data frame to show the values."
   ]
  },
  {
   "cell_type": "code",
   "execution_count": 25,
   "id": "72758182",
   "metadata": {},
   "outputs": [
    {
     "data": {
      "text/plain": [
       "[776.0707849617197,\n",
       " 717.757750140507,\n",
       " 613.9469765285878,\n",
       " 485.6909195795655,\n",
       " 355.3569698082,\n",
       " 240.46112906481076,\n",
       " 150.4871572697839,\n",
       " 87.10191392902544,\n",
       " 46.626060521895596,\n",
       " 23.083488864414868,\n",
       " 10.569262615718182,\n",
       " 4.475660492642926,\n",
       " 1.7528201770069307,\n",
       " 0.6348685871557583,\n",
       " 0.21266445933305037,\n",
       " 0.06588231440673456,\n",
       " 0.01887573120215323,\n",
       " 0.005001471341602033,\n",
       " 0.0012256001811081108,\n",
       " 0.00027775044455940123,\n",
       " 5.821212146770263e-05,\n",
       " 1.1282946735517056e-05,\n",
       " 2.0224591370810268e-06,\n",
       " 3.3526072192446126e-07,\n",
       " 5.139594263889443e-08,\n",
       " 7.286445469347251e-09,\n",
       " 9.553021635478307e-10,\n",
       " 1.1582474561671752e-10,\n",
       " 1.29865817794732e-11,\n",
       " 1.3465379005432483e-12,\n",
       " 1.2911295766207834e-13,\n",
       " 1.1448428305229149e-14,\n",
       " 9.387370302933272e-16,\n",
       " 7.118054516966336e-17,\n",
       " 4.991087413679018e-18,\n",
       " 3.2362552617730786e-19,\n",
       " 1.9404448739150593e-20]"
      ]
     },
     "execution_count": 25,
     "metadata": {},
     "output_type": "execute_result"
    }
   ],
   "source": [
    "list(q)"
   ]
  },
  {
   "cell_type": "code",
   "execution_count": 40,
   "id": "1be6ecb2",
   "metadata": {},
   "outputs": [
    {
     "data": {
      "text/html": [
       "<div>\n",
       "<style scoped>\n",
       "    .dataframe tbody tr th:only-of-type {\n",
       "        vertical-align: middle;\n",
       "    }\n",
       "\n",
       "    .dataframe tbody tr th {\n",
       "        vertical-align: top;\n",
       "    }\n",
       "\n",
       "    .dataframe thead th {\n",
       "        text-align: right;\n",
       "    }\n",
       "</style>\n",
       "<table border=\"1\" class=\"dataframe\">\n",
       "  <thead>\n",
       "    <tr style=\"text-align: right;\">\n",
       "      <th></th>\n",
       "      <th>Radius (m)</th>\n",
       "      <th>Total charge (C)</th>\n",
       "    </tr>\n",
       "  </thead>\n",
       "  <tbody>\n",
       "    <tr>\n",
       "      <th>0</th>\n",
       "      <td>0.0001</td>\n",
       "      <td>7.760708e+02</td>\n",
       "    </tr>\n",
       "    <tr>\n",
       "      <th>1</th>\n",
       "      <td>0.0002</td>\n",
       "      <td>7.177578e+02</td>\n",
       "    </tr>\n",
       "    <tr>\n",
       "      <th>2</th>\n",
       "      <td>0.0003</td>\n",
       "      <td>6.139470e+02</td>\n",
       "    </tr>\n",
       "    <tr>\n",
       "      <th>3</th>\n",
       "      <td>0.0004</td>\n",
       "      <td>4.856909e+02</td>\n",
       "    </tr>\n",
       "    <tr>\n",
       "      <th>4</th>\n",
       "      <td>0.0005</td>\n",
       "      <td>3.553570e+02</td>\n",
       "    </tr>\n",
       "    <tr>\n",
       "      <th>5</th>\n",
       "      <td>0.0006</td>\n",
       "      <td>2.404611e+02</td>\n",
       "    </tr>\n",
       "    <tr>\n",
       "      <th>6</th>\n",
       "      <td>0.0007</td>\n",
       "      <td>1.504872e+02</td>\n",
       "    </tr>\n",
       "    <tr>\n",
       "      <th>7</th>\n",
       "      <td>0.0008</td>\n",
       "      <td>8.710191e+01</td>\n",
       "    </tr>\n",
       "    <tr>\n",
       "      <th>8</th>\n",
       "      <td>0.0009</td>\n",
       "      <td>4.662606e+01</td>\n",
       "    </tr>\n",
       "    <tr>\n",
       "      <th>9</th>\n",
       "      <td>0.0010</td>\n",
       "      <td>2.308349e+01</td>\n",
       "    </tr>\n",
       "    <tr>\n",
       "      <th>10</th>\n",
       "      <td>0.0011</td>\n",
       "      <td>1.056926e+01</td>\n",
       "    </tr>\n",
       "    <tr>\n",
       "      <th>11</th>\n",
       "      <td>0.0012</td>\n",
       "      <td>4.475660e+00</td>\n",
       "    </tr>\n",
       "    <tr>\n",
       "      <th>12</th>\n",
       "      <td>0.0013</td>\n",
       "      <td>1.752820e+00</td>\n",
       "    </tr>\n",
       "    <tr>\n",
       "      <th>13</th>\n",
       "      <td>0.0014</td>\n",
       "      <td>6.348686e-01</td>\n",
       "    </tr>\n",
       "    <tr>\n",
       "      <th>14</th>\n",
       "      <td>0.0015</td>\n",
       "      <td>2.126645e-01</td>\n",
       "    </tr>\n",
       "    <tr>\n",
       "      <th>15</th>\n",
       "      <td>0.0016</td>\n",
       "      <td>6.588231e-02</td>\n",
       "    </tr>\n",
       "    <tr>\n",
       "      <th>16</th>\n",
       "      <td>0.0017</td>\n",
       "      <td>1.887573e-02</td>\n",
       "    </tr>\n",
       "    <tr>\n",
       "      <th>17</th>\n",
       "      <td>0.0018</td>\n",
       "      <td>5.001471e-03</td>\n",
       "    </tr>\n",
       "    <tr>\n",
       "      <th>18</th>\n",
       "      <td>0.0019</td>\n",
       "      <td>1.225600e-03</td>\n",
       "    </tr>\n",
       "    <tr>\n",
       "      <th>19</th>\n",
       "      <td>0.0020</td>\n",
       "      <td>2.777504e-04</td>\n",
       "    </tr>\n",
       "    <tr>\n",
       "      <th>20</th>\n",
       "      <td>0.0021</td>\n",
       "      <td>5.821212e-05</td>\n",
       "    </tr>\n",
       "    <tr>\n",
       "      <th>21</th>\n",
       "      <td>0.0022</td>\n",
       "      <td>1.128295e-05</td>\n",
       "    </tr>\n",
       "    <tr>\n",
       "      <th>22</th>\n",
       "      <td>0.0023</td>\n",
       "      <td>2.022459e-06</td>\n",
       "    </tr>\n",
       "    <tr>\n",
       "      <th>23</th>\n",
       "      <td>0.0024</td>\n",
       "      <td>3.352607e-07</td>\n",
       "    </tr>\n",
       "    <tr>\n",
       "      <th>24</th>\n",
       "      <td>0.0025</td>\n",
       "      <td>5.139594e-08</td>\n",
       "    </tr>\n",
       "    <tr>\n",
       "      <th>25</th>\n",
       "      <td>0.0026</td>\n",
       "      <td>7.286445e-09</td>\n",
       "    </tr>\n",
       "    <tr>\n",
       "      <th>26</th>\n",
       "      <td>0.0027</td>\n",
       "      <td>9.553022e-10</td>\n",
       "    </tr>\n",
       "    <tr>\n",
       "      <th>27</th>\n",
       "      <td>0.0028</td>\n",
       "      <td>1.158247e-10</td>\n",
       "    </tr>\n",
       "    <tr>\n",
       "      <th>28</th>\n",
       "      <td>0.0029</td>\n",
       "      <td>1.298658e-11</td>\n",
       "    </tr>\n",
       "    <tr>\n",
       "      <th>29</th>\n",
       "      <td>0.0030</td>\n",
       "      <td>1.346538e-12</td>\n",
       "    </tr>\n",
       "    <tr>\n",
       "      <th>30</th>\n",
       "      <td>0.0031</td>\n",
       "      <td>1.291130e-13</td>\n",
       "    </tr>\n",
       "    <tr>\n",
       "      <th>31</th>\n",
       "      <td>0.0032</td>\n",
       "      <td>1.144843e-14</td>\n",
       "    </tr>\n",
       "    <tr>\n",
       "      <th>32</th>\n",
       "      <td>0.0033</td>\n",
       "      <td>9.387370e-16</td>\n",
       "    </tr>\n",
       "    <tr>\n",
       "      <th>33</th>\n",
       "      <td>0.0034</td>\n",
       "      <td>7.118055e-17</td>\n",
       "    </tr>\n",
       "    <tr>\n",
       "      <th>34</th>\n",
       "      <td>0.0035</td>\n",
       "      <td>4.991087e-18</td>\n",
       "    </tr>\n",
       "    <tr>\n",
       "      <th>35</th>\n",
       "      <td>0.0036</td>\n",
       "      <td>3.236255e-19</td>\n",
       "    </tr>\n",
       "  </tbody>\n",
       "</table>\n",
       "</div>"
      ],
      "text/plain": [
       "    Radius (m)  Total charge (C)\n",
       "0       0.0001      7.760708e+02\n",
       "1       0.0002      7.177578e+02\n",
       "2       0.0003      6.139470e+02\n",
       "3       0.0004      4.856909e+02\n",
       "4       0.0005      3.553570e+02\n",
       "5       0.0006      2.404611e+02\n",
       "6       0.0007      1.504872e+02\n",
       "7       0.0008      8.710191e+01\n",
       "8       0.0009      4.662606e+01\n",
       "9       0.0010      2.308349e+01\n",
       "10      0.0011      1.056926e+01\n",
       "11      0.0012      4.475660e+00\n",
       "12      0.0013      1.752820e+00\n",
       "13      0.0014      6.348686e-01\n",
       "14      0.0015      2.126645e-01\n",
       "15      0.0016      6.588231e-02\n",
       "16      0.0017      1.887573e-02\n",
       "17      0.0018      5.001471e-03\n",
       "18      0.0019      1.225600e-03\n",
       "19      0.0020      2.777504e-04\n",
       "20      0.0021      5.821212e-05\n",
       "21      0.0022      1.128295e-05\n",
       "22      0.0023      2.022459e-06\n",
       "23      0.0024      3.352607e-07\n",
       "24      0.0025      5.139594e-08\n",
       "25      0.0026      7.286445e-09\n",
       "26      0.0027      9.553022e-10\n",
       "27      0.0028      1.158247e-10\n",
       "28      0.0029      1.298658e-11\n",
       "29      0.0030      1.346538e-12\n",
       "30      0.0031      1.291130e-13\n",
       "31      0.0032      1.144843e-14\n",
       "32      0.0033      9.387370e-16\n",
       "33      0.0034      7.118055e-17\n",
       "34      0.0035      4.991087e-18\n",
       "35      0.0036      3.236255e-19"
      ]
     },
     "execution_count": 40,
     "metadata": {},
     "output_type": "execute_result"
    }
   ],
   "source": [
    "\n",
    "ChangeR = pd.DataFrame( columns=[\"Radius (m)\", \"Total charge (C)\"])\n",
    "ChangeR[\"Radius (m)\"] = pd.Series(r)\n",
    "ChangeR[\"Total charge (C)\"] = pd.Series(q)\n",
    "ChangeR= ChangeR.drop([36])\n",
    "ChangeR\n"
   ]
  },
  {
   "cell_type": "markdown",
   "id": "71e44615",
   "metadata": {},
   "source": [
    "### Changing Area"
   ]
  },
  {
   "cell_type": "code",
   "execution_count": 70,
   "id": "90ef893e",
   "metadata": {},
   "outputs": [
    {
     "name": "stdout",
     "output_type": "stream",
     "text": [
      "[0.00000000e+00 9.98969506e-05 1.41275622e-04 ... 3.64589657e-03\n",
      " 3.64726489e-03 3.64863270e-03] 1165 [7.75291758e+02 3.07112263e+02 2.26484843e+02 ... 1.79726660e-19\n",
      " 1.72737917e-19 1.66020996e-19]\n"
     ]
    },
    {
     "data": {
      "text/plain": [
       "Text(0.5, 1.0, 'Total charge between radii')"
      ]
     },
     "execution_count": 70,
     "metadata": {},
     "output_type": "execute_result"
    },
    {
     "data": {
      "image/png": "[encoded data removed]",
      "text/plain": [
       "<Figure size 432x288 with 1 Axes>"
      ]
     },
     "metadata": {
      "needs_background": "light"
     },
     "output_type": "display_data"
    }
   ],
   "source": [
    "#our final radius should be 0.00365 as that is close to where the charge is essencially of that of an electron\n",
    "R = 0.00365 #m\n",
    "Segments = 1335 # number of segments with equal area pi*0.1^2  \n",
    "Ar=np.array([])\n",
    "for ith in np.arange(0,Segments,1):\n",
    "    newr = R*np.sqrt(ith/Segments)\n",
    "    Ar = np.append(Ar,newr)\n",
    "Aq = np.array([])\n",
    "\n",
    "j=0 #index\n",
    "foundA = False \n",
    "while foundA == False:\n",
    "    \n",
    "    chargeA = inta.quad(lambda x: 1/(2*t*h)*np.exp(-x**2/(4*t*h)),Ar[j],Ar[j+1])\n",
    "    if chargeA[0] <= e:\n",
    "        print(Ar,j,Aq)\n",
    "        foundA = True\n",
    "    Aq = np.append(Aq,chargeA[0])\n",
    "\n",
    "    j += 1\n",
    " \n",
    "newAr=np.array([]) #Keeping radii that have total charge > e\n",
    "for b in np.arange(0,len(Aq)+1,1):\n",
    "    newAr = np.append(newAr,Ar[b])\n",
    "newAr = np.delete(newAr,0) \n",
    "plt.plot(newAr,Aq,marker= \"X\",markerfacecolor='red',markeredgecolor = 'green')\n",
    "plt.xlabel(\"radius (m)\")\n",
    "plt.ylabel(\"Total charge\")\n",
    "plt.title(\"Total charge between radii\")\n",
    "\n"
   ]
  },
  {
   "cell_type": "markdown",
   "id": "66d7e554",
   "metadata": {},
   "source": [
    "### Lets focus on Total charge less that 0.1"
   ]
  },
  {
   "cell_type": "code",
   "execution_count": 64,
   "id": "8b5ae250",
   "metadata": {},
   "outputs": [
    {
     "data": {
      "text/plain": [
       "Text(0.5, 1.0, 'Total charge between radii')"
      ]
     },
     "execution_count": 64,
     "metadata": {},
     "output_type": "execute_result"
    },
    {
     "data": {
      "image/png": "[encoded data removed]",
      "text/plain": [
       "<Figure size 432x288 with 1 Axes>"
      ]
     },
     "metadata": {
      "needs_background": "light"
     },
     "output_type": "display_data"
    }
   ],
   "source": [
    "plt.plot(newAr[np.where(Aq < 0.1)],Aq[np.where(Aq < 0.1)],marker= \"^\",markerfacecolor='red',markeredgecolor = 'green')\n",
    "plt.xlabel(\"radius (m)\")\n",
    "plt.ylabel(\"Total charge\")\n",
    "plt.title(\"Total charge between radii\")\n"
   ]
  },
  {
   "cell_type": "markdown",
   "id": "8e838b52",
   "metadata": {},
   "source": [
    "### Make a dataframe."
   ]
  },
  {
   "cell_type": "code",
   "execution_count": 59,
   "id": "b80c4167",
   "metadata": {},
   "outputs": [
    {
     "data": {
      "text/html": [
       "<div>\n",
       "<style scoped>\n",
       "    .dataframe tbody tr th:only-of-type {\n",
       "        vertical-align: middle;\n",
       "    }\n",
       "\n",
       "    .dataframe tbody tr th {\n",
       "        vertical-align: top;\n",
       "    }\n",
       "\n",
       "    .dataframe thead th {\n",
       "        text-align: right;\n",
       "    }\n",
       "</style>\n",
       "<table border=\"1\" class=\"dataframe\">\n",
       "  <thead>\n",
       "    <tr style=\"text-align: right;\">\n",
       "      <th></th>\n",
       "      <th>Radius (m)</th>\n",
       "      <th>Total charge (C)</th>\n",
       "    </tr>\n",
       "  </thead>\n",
       "  <tbody>\n",
       "    <tr>\n",
       "      <th>0</th>\n",
       "      <td>0.000100</td>\n",
       "      <td>7.752918e+02</td>\n",
       "    </tr>\n",
       "    <tr>\n",
       "      <th>1</th>\n",
       "      <td>0.000141</td>\n",
       "      <td>3.071123e+02</td>\n",
       "    </tr>\n",
       "    <tr>\n",
       "      <th>2</th>\n",
       "      <td>0.000173</td>\n",
       "      <td>2.264848e+02</td>\n",
       "    </tr>\n",
       "    <tr>\n",
       "      <th>3</th>\n",
       "      <td>0.000200</td>\n",
       "      <td>1.835548e+02</td>\n",
       "    </tr>\n",
       "    <tr>\n",
       "      <th>4</th>\n",
       "      <td>0.000223</td>\n",
       "      <td>1.554772e+02</td>\n",
       "    </tr>\n",
       "    <tr>\n",
       "      <th>...</th>\n",
       "      <td>...</td>\n",
       "      <td>...</td>\n",
       "    </tr>\n",
       "    <tr>\n",
       "      <th>1161</th>\n",
       "      <td>0.003405</td>\n",
       "      <td>1.869982e-19</td>\n",
       "    </tr>\n",
       "    <tr>\n",
       "      <th>1162</th>\n",
       "      <td>0.003407</td>\n",
       "      <td>1.797267e-19</td>\n",
       "    </tr>\n",
       "    <tr>\n",
       "      <th>1163</th>\n",
       "      <td>0.003408</td>\n",
       "      <td>1.727379e-19</td>\n",
       "    </tr>\n",
       "    <tr>\n",
       "      <th>1164</th>\n",
       "      <td>0.003410</td>\n",
       "      <td>1.660210e-19</td>\n",
       "    </tr>\n",
       "    <tr>\n",
       "      <th>1165</th>\n",
       "      <td>0.003411</td>\n",
       "      <td>1.595653e-19</td>\n",
       "    </tr>\n",
       "  </tbody>\n",
       "</table>\n",
       "<p>1166 rows × 2 columns</p>\n",
       "</div>"
      ],
      "text/plain": [
       "      Radius (m)  Total charge (C)\n",
       "0       0.000100      7.752918e+02\n",
       "1       0.000141      3.071123e+02\n",
       "2       0.000173      2.264848e+02\n",
       "3       0.000200      1.835548e+02\n",
       "4       0.000223      1.554772e+02\n",
       "...          ...               ...\n",
       "1161    0.003405      1.869982e-19\n",
       "1162    0.003407      1.797267e-19\n",
       "1163    0.003408      1.727379e-19\n",
       "1164    0.003410      1.660210e-19\n",
       "1165    0.003411      1.595653e-19\n",
       "\n",
       "[1166 rows x 2 columns]"
      ]
     },
     "execution_count": 59,
     "metadata": {},
     "output_type": "execute_result"
    }
   ],
   "source": [
    "ChangeA = pd.DataFrame( columns=[\"Radius (m)\", \"Total charge (C)\"])\n",
    "ChangeA[\"Radius (m)\"] = pd.Series(newAr)\n",
    "ChangeA[\"Total charge (C)\"] = pd.Series(Aq)\n",
    "ChangeA"
   ]
  },
  {
   "cell_type": "code",
   "execution_count": null,
   "id": "2aa29a5e",
   "metadata": {},
   "outputs": [],
   "source": []
  }
 ],
 "metadata": {
  "kernelspec": {
   "display_name": "Python 3",
   "language": "python",
   "name": "python3"
  },
  "language_info": {
   "codemirror_mode": {
    "name": "ipython",
    "version": 3
   },
   "file_extension": ".py",
   "mimetype": "text/x-python",
   "name": "python",
   "nbconvert_exporter": "python",
   "pygments_lexer": "ipython3",
   "version": "3.8.8"
  }
 },
 "nbformat": 4,
 "nbformat_minor": 5
}
